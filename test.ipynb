{
 "cells": [
  {
   "cell_type": "code",
   "execution_count": 1,
   "metadata": {},
   "outputs": [
    {
     "name": "stdout",
     "output_type": "stream",
     "text": [
      "Requirement already satisfied: ultralytics in c:\\users\\adith\\appdata\\local\\programs\\python\\python311\\lib\\site-packages (8.1.34)\n",
      "Requirement already satisfied: opencv-python in c:\\users\\adith\\appdata\\local\\programs\\python\\python311\\lib\\site-packages (4.9.0.80)\n",
      "Requirement already satisfied: torch in c:\\users\\adith\\appdata\\local\\programs\\python\\python311\\lib\\site-packages (2.2.1)\n",
      "Requirement already satisfied: matplotlib>=3.3.0 in c:\\users\\adith\\appdata\\local\\programs\\python\\python311\\lib\\site-packages (from ultralytics) (3.7.1)\n",
      "Requirement already satisfied: pillow>=7.1.2 in c:\\users\\adith\\appdata\\local\\programs\\python\\python311\\lib\\site-packages (from ultralytics) (9.5.0)\n",
      "Requirement already satisfied: pyyaml>=5.3.1 in c:\\users\\adith\\appdata\\local\\programs\\python\\python311\\lib\\site-packages (from ultralytics) (6.0)\n",
      "Requirement already satisfied: requests>=2.23.0 in c:\\users\\adith\\appdata\\local\\programs\\python\\python311\\lib\\site-packages (from ultralytics) (2.31.0)\n",
      "Requirement already satisfied: scipy>=1.4.1 in c:\\users\\adith\\appdata\\local\\programs\\python\\python311\\lib\\site-packages (from ultralytics) (1.10.1)\n",
      "Requirement already satisfied: torchvision>=0.9.0 in c:\\users\\adith\\appdata\\local\\programs\\python\\python311\\lib\\site-packages (from ultralytics) (0.17.1)\n",
      "Requirement already satisfied: tqdm>=4.64.0 in c:\\users\\adith\\appdata\\local\\programs\\python\\python311\\lib\\site-packages (from ultralytics) (4.65.0)\n",
      "Requirement already satisfied: psutil in c:\\users\\adith\\appdata\\roaming\\python\\python311\\site-packages (from ultralytics) (5.9.5)\n",
      "Requirement already satisfied: py-cpuinfo in c:\\users\\adith\\appdata\\local\\programs\\python\\python311\\lib\\site-packages (from ultralytics) (9.0.0)\n",
      "Requirement already satisfied: thop>=0.1.1 in c:\\users\\adith\\appdata\\local\\programs\\python\\python311\\lib\\site-packages (from ultralytics) (0.1.1.post2209072238)\n",
      "Requirement already satisfied: pandas>=1.1.4 in c:\\users\\adith\\appdata\\local\\programs\\python\\python311\\lib\\site-packages (from ultralytics) (2.0.1)\n",
      "Requirement already satisfied: seaborn>=0.11.0 in c:\\users\\adith\\appdata\\local\\programs\\python\\python311\\lib\\site-packages (from ultralytics) (0.13.2)\n",
      "Requirement already satisfied: numpy>=1.21.2 in c:\\users\\adith\\appdata\\local\\programs\\python\\python311\\lib\\site-packages (from opencv-python) (1.24.3)\n",
      "Requirement already satisfied: filelock in c:\\users\\adith\\appdata\\local\\programs\\python\\python311\\lib\\site-packages (from torch) (3.14.0)\n",
      "Requirement already satisfied: typing-extensions>=4.8.0 in c:\\users\\adith\\appdata\\local\\programs\\python\\python311\\lib\\site-packages (from torch) (4.10.0)\n",
      "Requirement already satisfied: sympy in c:\\users\\adith\\appdata\\local\\programs\\python\\python311\\lib\\site-packages (from torch) (1.12)\n",
      "Requirement already satisfied: networkx in c:\\users\\adith\\appdata\\local\\programs\\python\\python311\\lib\\site-packages (from torch) (3.2.1)\n",
      "Requirement already satisfied: jinja2 in c:\\users\\adith\\appdata\\local\\programs\\python\\python311\\lib\\site-packages (from torch) (3.1.2)\n",
      "Requirement already satisfied: fsspec in c:\\users\\adith\\appdata\\local\\programs\\python\\python311\\lib\\site-packages (from torch) (2023.5.0)\n",
      "Requirement already satisfied: contourpy>=1.0.1 in c:\\users\\adith\\appdata\\local\\programs\\python\\python311\\lib\\site-packages (from matplotlib>=3.3.0->ultralytics) (1.0.7)\n",
      "Requirement already satisfied: cycler>=0.10 in c:\\users\\adith\\appdata\\local\\programs\\python\\python311\\lib\\site-packages (from matplotlib>=3.3.0->ultralytics) (0.11.0)\n",
      "Requirement already satisfied: fonttools>=4.22.0 in c:\\users\\adith\\appdata\\local\\programs\\python\\python311\\lib\\site-packages (from matplotlib>=3.3.0->ultralytics) (4.39.4)\n",
      "Requirement already satisfied: kiwisolver>=1.0.1 in c:\\users\\adith\\appdata\\local\\programs\\python\\python311\\lib\\site-packages (from matplotlib>=3.3.0->ultralytics) (1.4.4)\n",
      "Requirement already satisfied: packaging>=20.0 in c:\\users\\adith\\appdata\\roaming\\python\\python311\\site-packages (from matplotlib>=3.3.0->ultralytics) (23.1)\n",
      "Requirement already satisfied: pyparsing>=2.3.1 in c:\\users\\adith\\appdata\\local\\programs\\python\\python311\\lib\\site-packages (from matplotlib>=3.3.0->ultralytics) (3.0.9)\n",
      "Requirement already satisfied: python-dateutil>=2.7 in c:\\users\\adith\\appdata\\roaming\\python\\python311\\site-packages (from matplotlib>=3.3.0->ultralytics) (2.8.2)\n",
      "Requirement already satisfied: pytz>=2020.1 in c:\\users\\adith\\appdata\\local\\programs\\python\\python311\\lib\\site-packages (from pandas>=1.1.4->ultralytics) (2023.3)\n",
      "Requirement already satisfied: tzdata>=2022.1 in c:\\users\\adith\\appdata\\local\\programs\\python\\python311\\lib\\site-packages (from pandas>=1.1.4->ultralytics) (2023.3)\n",
      "Requirement already satisfied: charset-normalizer<4,>=2 in c:\\users\\adith\\appdata\\local\\programs\\python\\python311\\lib\\site-packages (from requests>=2.23.0->ultralytics) (3.1.0)\n",
      "Requirement already satisfied: idna<4,>=2.5 in c:\\users\\adith\\appdata\\local\\programs\\python\\python311\\lib\\site-packages (from requests>=2.23.0->ultralytics) (3.4)\n",
      "Requirement already satisfied: urllib3<3,>=1.21.1 in c:\\users\\adith\\appdata\\local\\programs\\python\\python311\\lib\\site-packages (from requests>=2.23.0->ultralytics) (2.0.2)\n",
      "Requirement already satisfied: certifi>=2017.4.17 in c:\\users\\adith\\appdata\\local\\programs\\python\\python311\\lib\\site-packages (from requests>=2.23.0->ultralytics) (2023.5.7)\n",
      "Requirement already satisfied: colorama in c:\\users\\adith\\appdata\\roaming\\python\\python311\\site-packages (from tqdm>=4.64.0->ultralytics) (0.4.6)\n",
      "Requirement already satisfied: MarkupSafe>=2.0 in c:\\users\\adith\\appdata\\local\\programs\\python\\python311\\lib\\site-packages (from jinja2->torch) (2.1.2)\n",
      "Requirement already satisfied: mpmath>=0.19 in c:\\users\\adith\\appdata\\local\\programs\\python\\python311\\lib\\site-packages (from sympy->torch) (1.3.0)\n",
      "Requirement already satisfied: six>=1.5 in c:\\users\\adith\\appdata\\roaming\\python\\python311\\site-packages (from python-dateutil>=2.7->matplotlib>=3.3.0->ultralytics) (1.16.0)\n",
      "Note: you may need to restart the kernel to use updated packages.\n"
     ]
    },
    {
     "name": "stderr",
     "output_type": "stream",
     "text": [
      "\n",
      "[notice] A new release of pip is available: 24.0 -> 24.2\n",
      "[notice] To update, run: python.exe -m pip install --upgrade pip\n"
     ]
    }
   ],
   "source": [
    "pip install ultralytics opencv-python torch"
   ]
  },
  {
   "cell_type": "code",
   "execution_count": 3,
   "metadata": {},
   "outputs": [
    {
     "name": "stdout",
     "output_type": "stream",
     "text": [
      "New https://pypi.org/project/ultralytics/8.3.9 available 😃 Update with 'pip install -U ultralytics'\n",
      "Ultralytics YOLOv8.1.34 🚀 Python-3.11.1 torch-2.2.1+cpu CPU (AMD Ryzen 7 5700U with Radeon Graphics)\n",
      "\u001b[34m\u001b[1mengine\\trainer: \u001b[0mtask=detect, mode=train, model=yolov8n.pt, data=data.yaml, epochs=10, time=None, patience=100, batch=16, imgsz=640, save=True, save_period=-1, cache=False, device=None, workers=8, project=None, name=drone_detection2, exist_ok=False, pretrained=True, optimizer=auto, verbose=True, seed=0, deterministic=True, single_cls=False, rect=False, cos_lr=False, close_mosaic=10, resume=False, amp=True, fraction=1.0, profile=False, freeze=None, multi_scale=False, overlap_mask=True, mask_ratio=4, dropout=0.0, val=True, split=val, save_json=False, save_hybrid=False, conf=None, iou=0.7, max_det=300, half=False, dnn=False, plots=True, source=None, vid_stride=1, stream_buffer=False, visualize=False, augment=False, agnostic_nms=False, classes=None, retina_masks=False, embed=None, show=False, save_frames=False, save_txt=False, save_conf=False, save_crop=False, show_labels=True, show_conf=True, show_boxes=True, line_width=None, format=torchscript, keras=False, optimize=False, int8=False, dynamic=False, simplify=False, opset=None, workspace=4, nms=False, lr0=0.01, lrf=0.01, momentum=0.937, weight_decay=0.0005, warmup_epochs=3.0, warmup_momentum=0.8, warmup_bias_lr=0.1, box=7.5, cls=0.5, dfl=1.5, pose=12.0, kobj=1.0, label_smoothing=0.0, nbs=64, hsv_h=0.015, hsv_s=0.7, hsv_v=0.4, degrees=0.0, translate=0.1, scale=0.5, shear=0.0, perspective=0.0, flipud=0.0, fliplr=0.5, bgr=0.0, mosaic=1.0, mixup=0.0, copy_paste=0.0, auto_augment=randaugment, erasing=0.4, crop_fraction=1.0, cfg=None, tracker=botsort.yaml, save_dir=runs\\detect\\drone_detection2\n",
      "Downloading https://ultralytics.com/assets/Arial.ttf to 'C:\\Users\\adith\\AppData\\Roaming\\Ultralytics\\Arial.ttf'...\n"
     ]
    },
    {
     "name": "stderr",
     "output_type": "stream",
     "text": [
      "100%|██████████| 755k/755k [00:00<00:00, 3.11MB/s]\n"
     ]
    },
    {
     "name": "stdout",
     "output_type": "stream",
     "text": [
      "Overriding model.yaml nc=80 with nc=1\n",
      "\n",
      "                   from  n    params  module                                       arguments                     \n",
      "  0                  -1  1       464  ultralytics.nn.modules.conv.Conv             [3, 16, 3, 2]                 \n",
      "  1                  -1  1      4672  ultralytics.nn.modules.conv.Conv             [16, 32, 3, 2]                \n",
      "  2                  -1  1      7360  ultralytics.nn.modules.block.C2f             [32, 32, 1, True]             \n",
      "  3                  -1  1     18560  ultralytics.nn.modules.conv.Conv             [32, 64, 3, 2]                \n",
      "  4                  -1  2     49664  ultralytics.nn.modules.block.C2f             [64, 64, 2, True]             \n",
      "  5                  -1  1     73984  ultralytics.nn.modules.conv.Conv             [64, 128, 3, 2]               \n",
      "  6                  -1  2    197632  ultralytics.nn.modules.block.C2f             [128, 128, 2, True]           \n",
      "  7                  -1  1    295424  ultralytics.nn.modules.conv.Conv             [128, 256, 3, 2]              \n",
      "  8                  -1  1    460288  ultralytics.nn.modules.block.C2f             [256, 256, 1, True]           \n",
      "  9                  -1  1    164608  ultralytics.nn.modules.block.SPPF            [256, 256, 5]                 \n",
      " 10                  -1  1         0  torch.nn.modules.upsampling.Upsample         [None, 2, 'nearest']          \n",
      " 11             [-1, 6]  1         0  ultralytics.nn.modules.conv.Concat           [1]                           \n",
      " 12                  -1  1    148224  ultralytics.nn.modules.block.C2f             [384, 128, 1]                 \n",
      " 13                  -1  1         0  torch.nn.modules.upsampling.Upsample         [None, 2, 'nearest']          \n",
      " 14             [-1, 4]  1         0  ultralytics.nn.modules.conv.Concat           [1]                           \n",
      " 15                  -1  1     37248  ultralytics.nn.modules.block.C2f             [192, 64, 1]                  \n",
      " 16                  -1  1     36992  ultralytics.nn.modules.conv.Conv             [64, 64, 3, 2]                \n",
      " 17            [-1, 12]  1         0  ultralytics.nn.modules.conv.Concat           [1]                           \n",
      " 18                  -1  1    123648  ultralytics.nn.modules.block.C2f             [192, 128, 1]                 \n",
      " 19                  -1  1    147712  ultralytics.nn.modules.conv.Conv             [128, 128, 3, 2]              \n",
      " 20             [-1, 9]  1         0  ultralytics.nn.modules.conv.Concat           [1]                           \n",
      " 21                  -1  1    493056  ultralytics.nn.modules.block.C2f             [384, 256, 1]                 \n",
      " 22        [15, 18, 21]  1    751507  ultralytics.nn.modules.head.Detect           [1, [64, 128, 256]]           \n",
      "Model summary: 225 layers, 3011043 parameters, 3011027 gradients, 8.2 GFLOPs\n",
      "\n",
      "Transferred 319/355 items from pretrained weights\n",
      "\u001b[34m\u001b[1mTensorBoard: \u001b[0mStart with 'tensorboard --logdir runs\\detect\\drone_detection2', view at http://localhost:6006/\n",
      "Freezing layer 'model.22.dfl.conv.weight'\n"
     ]
    },
    {
     "name": "stderr",
     "output_type": "stream",
     "text": [
      "\u001b[34m\u001b[1mtrain: \u001b[0mScanning C:\\Users\\adith\\Downloads\\drone_dataset\\train\\labels... 1012 images, 0 backgrounds, 0 corrupt: 100%|██████████| 1012/1012 [00:02<00:00, 450.09it/s]"
     ]
    },
    {
     "name": "stdout",
     "output_type": "stream",
     "text": [
      "\u001b[34m\u001b[1mtrain: \u001b[0mWARNING ⚠️ C:\\Users\\adith\\Downloads\\drone_dataset\\train\\images\\pic_722.jpg: corrupt JPEG restored and saved\n"
     ]
    },
    {
     "name": "stderr",
     "output_type": "stream",
     "text": [
      "\n"
     ]
    },
    {
     "name": "stdout",
     "output_type": "stream",
     "text": [
      "\u001b[34m\u001b[1mtrain: \u001b[0mNew cache created: C:\\Users\\adith\\Downloads\\drone_dataset\\train\\labels.cache\n"
     ]
    },
    {
     "name": "stderr",
     "output_type": "stream",
     "text": [
      "\u001b[34m\u001b[1mval: \u001b[0mScanning C:\\Users\\adith\\Downloads\\drone_dataset\\valid\\labels... 347 images, 0 backgrounds, 0 corrupt: 100%|██████████| 347/347 [00:00<00:00, 517.57it/s]"
     ]
    },
    {
     "name": "stdout",
     "output_type": "stream",
     "text": [
      "\u001b[34m\u001b[1mval: \u001b[0mNew cache created: C:\\Users\\adith\\Downloads\\drone_dataset\\valid\\labels.cache\n"
     ]
    },
    {
     "name": "stderr",
     "output_type": "stream",
     "text": [
      "\n"
     ]
    },
    {
     "name": "stdout",
     "output_type": "stream",
     "text": [
      "Plotting labels to runs\\detect\\drone_detection2\\labels.jpg... \n",
      "\u001b[34m\u001b[1moptimizer:\u001b[0m 'optimizer=auto' found, ignoring 'lr0=0.01' and 'momentum=0.937' and determining best 'optimizer', 'lr0' and 'momentum' automatically... \n",
      "\u001b[34m\u001b[1moptimizer:\u001b[0m AdamW(lr=0.002, momentum=0.9) with parameter groups 57 weight(decay=0.0), 64 weight(decay=0.0005), 63 bias(decay=0.0)\n",
      "\u001b[34m\u001b[1mTensorBoard: \u001b[0mmodel graph visualization added ✅\n",
      "Image sizes 640 train, 640 val\n",
      "Using 0 dataloader workers\n",
      "Logging results to \u001b[1mruns\\detect\\drone_detection2\u001b[0m\n",
      "Starting training for 10 epochs...\n",
      "Closing dataloader mosaic\n",
      "\n",
      "      Epoch    GPU_mem   box_loss   cls_loss   dfl_loss  Instances       Size\n"
     ]
    },
    {
     "name": "stderr",
     "output_type": "stream",
     "text": [
      "       1/10         0G      1.373       2.62      1.731          4        640: 100%|██████████| 64/64 [06:37<00:00,  6.22s/it]\n",
      "                 Class     Images  Instances      Box(P          R      mAP50  mAP50-95): 100%|██████████| 11/11 [00:42<00:00,  3.83s/it]"
     ]
    },
    {
     "name": "stdout",
     "output_type": "stream",
     "text": [
      "                   all        347        369      0.583      0.393      0.433      0.182\n"
     ]
    },
    {
     "name": "stderr",
     "output_type": "stream",
     "text": [
      "\n"
     ]
    },
    {
     "name": "stdout",
     "output_type": "stream",
     "text": [
      "\n",
      "      Epoch    GPU_mem   box_loss   cls_loss   dfl_loss  Instances       Size\n"
     ]
    },
    {
     "name": "stderr",
     "output_type": "stream",
     "text": [
      "       2/10         0G      1.425      2.103      1.769         15        640: 100%|██████████| 64/64 [06:25<00:00,  6.02s/it]\n",
      "                 Class     Images  Instances      Box(P          R      mAP50  mAP50-95): 100%|██████████| 11/11 [00:35<00:00,  3.22s/it]"
     ]
    },
    {
     "name": "stdout",
     "output_type": "stream",
     "text": [
      "                   all        347        369       0.57      0.495      0.456      0.192\n"
     ]
    },
    {
     "name": "stderr",
     "output_type": "stream",
     "text": [
      "\n"
     ]
    },
    {
     "name": "stdout",
     "output_type": "stream",
     "text": [
      "\n",
      "      Epoch    GPU_mem   box_loss   cls_loss   dfl_loss  Instances       Size\n"
     ]
    },
    {
     "name": "stderr",
     "output_type": "stream",
     "text": [
      "       3/10         0G      1.512      1.834       1.84          4        640: 100%|██████████| 64/64 [28:03<00:00, 26.30s/it]   \n",
      "                 Class     Images  Instances      Box(P          R      mAP50  mAP50-95): 100%|██████████| 11/11 [00:33<00:00,  3.08s/it]"
     ]
    },
    {
     "name": "stdout",
     "output_type": "stream",
     "text": [
      "                   all        347        369       0.68      0.493      0.539      0.265\n"
     ]
    },
    {
     "name": "stderr",
     "output_type": "stream",
     "text": [
      "\n"
     ]
    },
    {
     "name": "stdout",
     "output_type": "stream",
     "text": [
      "\n",
      "      Epoch    GPU_mem   box_loss   cls_loss   dfl_loss  Instances       Size\n"
     ]
    },
    {
     "name": "stderr",
     "output_type": "stream",
     "text": [
      "       4/10         0G      1.459      1.579      1.776          4        640: 100%|██████████| 64/64 [06:17<00:00,  5.90s/it]\n",
      "                 Class     Images  Instances      Box(P          R      mAP50  mAP50-95): 100%|██████████| 11/11 [00:34<00:00,  3.12s/it]"
     ]
    },
    {
     "name": "stdout",
     "output_type": "stream",
     "text": [
      "                   all        347        369      0.444      0.314       0.33      0.109\n"
     ]
    },
    {
     "name": "stderr",
     "output_type": "stream",
     "text": [
      "\n"
     ]
    },
    {
     "name": "stdout",
     "output_type": "stream",
     "text": [
      "\n",
      "      Epoch    GPU_mem   box_loss   cls_loss   dfl_loss  Instances       Size\n"
     ]
    },
    {
     "name": "stderr",
     "output_type": "stream",
     "text": [
      "       5/10         0G      1.459      1.429      1.726          4        640: 100%|██████████| 64/64 [06:23<00:00,  6.00s/it]\n",
      "                 Class     Images  Instances      Box(P          R      mAP50  mAP50-95): 100%|██████████| 11/11 [00:35<00:00,  3.22s/it]"
     ]
    },
    {
     "name": "stdout",
     "output_type": "stream",
     "text": [
      "                   all        347        369      0.734      0.593      0.632      0.318\n"
     ]
    },
    {
     "name": "stderr",
     "output_type": "stream",
     "text": [
      "\n"
     ]
    },
    {
     "name": "stdout",
     "output_type": "stream",
     "text": [
      "\n",
      "      Epoch    GPU_mem   box_loss   cls_loss   dfl_loss  Instances       Size\n"
     ]
    },
    {
     "name": "stderr",
     "output_type": "stream",
     "text": [
      "       6/10         0G      1.357      1.223       1.66          4        640: 100%|██████████| 64/64 [06:24<00:00,  6.01s/it]\n",
      "                 Class     Images  Instances      Box(P          R      mAP50  mAP50-95): 100%|██████████| 11/11 [00:33<00:00,  3.06s/it]"
     ]
    },
    {
     "name": "stdout",
     "output_type": "stream",
     "text": [
      "                   all        347        369       0.78       0.58      0.671      0.298\n"
     ]
    },
    {
     "name": "stderr",
     "output_type": "stream",
     "text": [
      "\n"
     ]
    },
    {
     "name": "stdout",
     "output_type": "stream",
     "text": [
      "\n",
      "      Epoch    GPU_mem   box_loss   cls_loss   dfl_loss  Instances       Size\n"
     ]
    },
    {
     "name": "stderr",
     "output_type": "stream",
     "text": [
      "       7/10         0G      1.306      1.105      1.624          4        640: 100%|██████████| 64/64 [06:23<00:00,  5.99s/it]\n",
      "                 Class     Images  Instances      Box(P          R      mAP50  mAP50-95): 100%|██████████| 11/11 [00:37<00:00,  3.44s/it]"
     ]
    },
    {
     "name": "stdout",
     "output_type": "stream",
     "text": [
      "                   all        347        369      0.766      0.713      0.734      0.363\n"
     ]
    },
    {
     "name": "stderr",
     "output_type": "stream",
     "text": [
      "\n"
     ]
    },
    {
     "name": "stdout",
     "output_type": "stream",
     "text": [
      "\n",
      "      Epoch    GPU_mem   box_loss   cls_loss   dfl_loss  Instances       Size\n"
     ]
    },
    {
     "name": "stderr",
     "output_type": "stream",
     "text": [
      "       8/10         0G      1.243     0.9557       1.56          4        640: 100%|██████████| 64/64 [06:53<00:00,  6.46s/it]\n",
      "                 Class     Images  Instances      Box(P          R      mAP50  mAP50-95): 100%|██████████| 11/11 [00:37<00:00,  3.45s/it]"
     ]
    },
    {
     "name": "stdout",
     "output_type": "stream",
     "text": [
      "                   all        347        369      0.793      0.727      0.772       0.43\n"
     ]
    },
    {
     "name": "stderr",
     "output_type": "stream",
     "text": [
      "\n"
     ]
    },
    {
     "name": "stdout",
     "output_type": "stream",
     "text": [
      "\n",
      "      Epoch    GPU_mem   box_loss   cls_loss   dfl_loss  Instances       Size\n"
     ]
    },
    {
     "name": "stderr",
     "output_type": "stream",
     "text": [
      "       9/10         0G      1.158     0.8882       1.47          7        640: 100%|██████████| 64/64 [06:38<00:00,  6.23s/it]\n",
      "                 Class     Images  Instances      Box(P          R      mAP50  mAP50-95): 100%|██████████| 11/11 [00:39<00:00,  3.62s/it]"
     ]
    },
    {
     "name": "stdout",
     "output_type": "stream",
     "text": [
      "                   all        347        369      0.804      0.678      0.759      0.438\n"
     ]
    },
    {
     "name": "stderr",
     "output_type": "stream",
     "text": [
      "\n"
     ]
    },
    {
     "name": "stdout",
     "output_type": "stream",
     "text": [
      "\n",
      "      Epoch    GPU_mem   box_loss   cls_loss   dfl_loss  Instances       Size\n"
     ]
    },
    {
     "name": "stderr",
     "output_type": "stream",
     "text": [
      "      10/10         0G      1.112     0.8185      1.428          8        640: 100%|██████████| 64/64 [06:52<00:00,  6.44s/it]\n",
      "                 Class     Images  Instances      Box(P          R      mAP50  mAP50-95): 100%|██████████| 11/11 [00:35<00:00,  3.26s/it]"
     ]
    },
    {
     "name": "stdout",
     "output_type": "stream",
     "text": [
      "                   all        347        369      0.846      0.775      0.838      0.503\n"
     ]
    },
    {
     "name": "stderr",
     "output_type": "stream",
     "text": [
      "\n"
     ]
    },
    {
     "name": "stdout",
     "output_type": "stream",
     "text": [
      "\n",
      "10 epochs completed in 1.554 hours.\n",
      "Optimizer stripped from runs\\detect\\drone_detection2\\weights\\last.pt, 6.2MB\n",
      "Optimizer stripped from runs\\detect\\drone_detection2\\weights\\best.pt, 6.2MB\n",
      "\n",
      "Validating runs\\detect\\drone_detection2\\weights\\best.pt...\n",
      "Ultralytics YOLOv8.1.34 🚀 Python-3.11.1 torch-2.2.1+cpu CPU (AMD Ryzen 7 5700U with Radeon Graphics)\n",
      "Model summary (fused): 168 layers, 3005843 parameters, 0 gradients, 8.1 GFLOPs\n"
     ]
    },
    {
     "name": "stderr",
     "output_type": "stream",
     "text": [
      "                 Class     Images  Instances      Box(P          R      mAP50  mAP50-95): 100%|██████████| 11/11 [00:31<00:00,  2.86s/it]\n"
     ]
    },
    {
     "name": "stdout",
     "output_type": "stream",
     "text": [
      "                   all        347        369      0.846      0.775      0.838      0.503\n",
      "Speed: 2.0ms preprocess, 71.2ms inference, 0.0ms loss, 0.4ms postprocess per image\n",
      "Results saved to \u001b[1mruns\\detect\\drone_detection2\u001b[0m\n"
     ]
    },
    {
     "data": {
      "text/plain": [
       "ultralytics.utils.metrics.DetMetrics object with attributes:\n",
       "\n",
       "ap_class_index: array([0])\n",
       "box: ultralytics.utils.metrics.Metric object\n",
       "confusion_matrix: <ultralytics.utils.metrics.ConfusionMatrix object at 0x000002605D1D7150>\n",
       "curves: ['Precision-Recall(B)', 'F1-Confidence(B)', 'Precision-Confidence(B)', 'Recall-Confidence(B)']\n",
       "curves_results: [[array([          0,    0.001001,    0.002002,    0.003003,    0.004004,    0.005005,    0.006006,    0.007007,    0.008008,    0.009009,     0.01001,    0.011011,    0.012012,    0.013013,    0.014014,    0.015015,    0.016016,    0.017017,    0.018018,    0.019019,     0.02002,    0.021021,    0.022022,    0.023023,\n",
       "          0.024024,    0.025025,    0.026026,    0.027027,    0.028028,    0.029029,     0.03003,    0.031031,    0.032032,    0.033033,    0.034034,    0.035035,    0.036036,    0.037037,    0.038038,    0.039039,     0.04004,    0.041041,    0.042042,    0.043043,    0.044044,    0.045045,    0.046046,    0.047047,\n",
       "          0.048048,    0.049049,     0.05005,    0.051051,    0.052052,    0.053053,    0.054054,    0.055055,    0.056056,    0.057057,    0.058058,    0.059059,     0.06006,    0.061061,    0.062062,    0.063063,    0.064064,    0.065065,    0.066066,    0.067067,    0.068068,    0.069069,     0.07007,    0.071071,\n",
       "          0.072072,    0.073073,    0.074074,    0.075075,    0.076076,    0.077077,    0.078078,    0.079079,     0.08008,    0.081081,    0.082082,    0.083083,    0.084084,    0.085085,    0.086086,    0.087087,    0.088088,    0.089089,     0.09009,    0.091091,    0.092092,    0.093093,    0.094094,    0.095095,\n",
       "          0.096096,    0.097097,    0.098098,    0.099099,      0.1001,      0.1011,      0.1021,      0.1031,      0.1041,     0.10511,     0.10611,     0.10711,     0.10811,     0.10911,     0.11011,     0.11111,     0.11211,     0.11311,     0.11411,     0.11512,     0.11612,     0.11712,     0.11812,     0.11912,\n",
       "           0.12012,     0.12112,     0.12212,     0.12312,     0.12412,     0.12513,     0.12613,     0.12713,     0.12813,     0.12913,     0.13013,     0.13113,     0.13213,     0.13313,     0.13413,     0.13514,     0.13614,     0.13714,     0.13814,     0.13914,     0.14014,     0.14114,     0.14214,     0.14314,\n",
       "           0.14414,     0.14515,     0.14615,     0.14715,     0.14815,     0.14915,     0.15015,     0.15115,     0.15215,     0.15315,     0.15415,     0.15516,     0.15616,     0.15716,     0.15816,     0.15916,     0.16016,     0.16116,     0.16216,     0.16316,     0.16416,     0.16517,     0.16617,     0.16717,\n",
       "           0.16817,     0.16917,     0.17017,     0.17117,     0.17217,     0.17317,     0.17417,     0.17518,     0.17618,     0.17718,     0.17818,     0.17918,     0.18018,     0.18118,     0.18218,     0.18318,     0.18418,     0.18519,     0.18619,     0.18719,     0.18819,     0.18919,     0.19019,     0.19119,\n",
       "           0.19219,     0.19319,     0.19419,      0.1952,      0.1962,      0.1972,      0.1982,      0.1992,      0.2002,      0.2012,      0.2022,      0.2032,      0.2042,     0.20521,     0.20621,     0.20721,     0.20821,     0.20921,     0.21021,     0.21121,     0.21221,     0.21321,     0.21421,     0.21522,\n",
       "           0.21622,     0.21722,     0.21822,     0.21922,     0.22022,     0.22122,     0.22222,     0.22322,     0.22422,     0.22523,     0.22623,     0.22723,     0.22823,     0.22923,     0.23023,     0.23123,     0.23223,     0.23323,     0.23423,     0.23524,     0.23624,     0.23724,     0.23824,     0.23924,\n",
       "           0.24024,     0.24124,     0.24224,     0.24324,     0.24424,     0.24525,     0.24625,     0.24725,     0.24825,     0.24925,     0.25025,     0.25125,     0.25225,     0.25325,     0.25425,     0.25526,     0.25626,     0.25726,     0.25826,     0.25926,     0.26026,     0.26126,     0.26226,     0.26326,\n",
       "           0.26426,     0.26527,     0.26627,     0.26727,     0.26827,     0.26927,     0.27027,     0.27127,     0.27227,     0.27327,     0.27427,     0.27528,     0.27628,     0.27728,     0.27828,     0.27928,     0.28028,     0.28128,     0.28228,     0.28328,     0.28428,     0.28529,     0.28629,     0.28729,\n",
       "           0.28829,     0.28929,     0.29029,     0.29129,     0.29229,     0.29329,     0.29429,      0.2953,      0.2963,      0.2973,      0.2983,      0.2993,      0.3003,      0.3013,      0.3023,      0.3033,      0.3043,     0.30531,     0.30631,     0.30731,     0.30831,     0.30931,     0.31031,     0.31131,\n",
       "           0.31231,     0.31331,     0.31431,     0.31532,     0.31632,     0.31732,     0.31832,     0.31932,     0.32032,     0.32132,     0.32232,     0.32332,     0.32432,     0.32533,     0.32633,     0.32733,     0.32833,     0.32933,     0.33033,     0.33133,     0.33233,     0.33333,     0.33433,     0.33534,\n",
       "           0.33634,     0.33734,     0.33834,     0.33934,     0.34034,     0.34134,     0.34234,     0.34334,     0.34434,     0.34535,     0.34635,     0.34735,     0.34835,     0.34935,     0.35035,     0.35135,     0.35235,     0.35335,     0.35435,     0.35536,     0.35636,     0.35736,     0.35836,     0.35936,\n",
       "           0.36036,     0.36136,     0.36236,     0.36336,     0.36436,     0.36537,     0.36637,     0.36737,     0.36837,     0.36937,     0.37037,     0.37137,     0.37237,     0.37337,     0.37437,     0.37538,     0.37638,     0.37738,     0.37838,     0.37938,     0.38038,     0.38138,     0.38238,     0.38338,\n",
       "           0.38438,     0.38539,     0.38639,     0.38739,     0.38839,     0.38939,     0.39039,     0.39139,     0.39239,     0.39339,     0.39439,      0.3954,      0.3964,      0.3974,      0.3984,      0.3994,      0.4004,      0.4014,      0.4024,      0.4034,      0.4044,     0.40541,     0.40641,     0.40741,\n",
       "           0.40841,     0.40941,     0.41041,     0.41141,     0.41241,     0.41341,     0.41441,     0.41542,     0.41642,     0.41742,     0.41842,     0.41942,     0.42042,     0.42142,     0.42242,     0.42342,     0.42442,     0.42543,     0.42643,     0.42743,     0.42843,     0.42943,     0.43043,     0.43143,\n",
       "           0.43243,     0.43343,     0.43443,     0.43544,     0.43644,     0.43744,     0.43844,     0.43944,     0.44044,     0.44144,     0.44244,     0.44344,     0.44444,     0.44545,     0.44645,     0.44745,     0.44845,     0.44945,     0.45045,     0.45145,     0.45245,     0.45345,     0.45445,     0.45546,\n",
       "           0.45646,     0.45746,     0.45846,     0.45946,     0.46046,     0.46146,     0.46246,     0.46346,     0.46446,     0.46547,     0.46647,     0.46747,     0.46847,     0.46947,     0.47047,     0.47147,     0.47247,     0.47347,     0.47447,     0.47548,     0.47648,     0.47748,     0.47848,     0.47948,\n",
       "           0.48048,     0.48148,     0.48248,     0.48348,     0.48448,     0.48549,     0.48649,     0.48749,     0.48849,     0.48949,     0.49049,     0.49149,     0.49249,     0.49349,     0.49449,      0.4955,      0.4965,      0.4975,      0.4985,      0.4995,      0.5005,      0.5015,      0.5025,      0.5035,\n",
       "            0.5045,     0.50551,     0.50651,     0.50751,     0.50851,     0.50951,     0.51051,     0.51151,     0.51251,     0.51351,     0.51451,     0.51552,     0.51652,     0.51752,     0.51852,     0.51952,     0.52052,     0.52152,     0.52252,     0.52352,     0.52452,     0.52553,     0.52653,     0.52753,\n",
       "           0.52853,     0.52953,     0.53053,     0.53153,     0.53253,     0.53353,     0.53453,     0.53554,     0.53654,     0.53754,     0.53854,     0.53954,     0.54054,     0.54154,     0.54254,     0.54354,     0.54454,     0.54555,     0.54655,     0.54755,     0.54855,     0.54955,     0.55055,     0.55155,\n",
       "           0.55255,     0.55355,     0.55455,     0.55556,     0.55656,     0.55756,     0.55856,     0.55956,     0.56056,     0.56156,     0.56256,     0.56356,     0.56456,     0.56557,     0.56657,     0.56757,     0.56857,     0.56957,     0.57057,     0.57157,     0.57257,     0.57357,     0.57457,     0.57558,\n",
       "           0.57658,     0.57758,     0.57858,     0.57958,     0.58058,     0.58158,     0.58258,     0.58358,     0.58458,     0.58559,     0.58659,     0.58759,     0.58859,     0.58959,     0.59059,     0.59159,     0.59259,     0.59359,     0.59459,      0.5956,      0.5966,      0.5976,      0.5986,      0.5996,\n",
       "            0.6006,      0.6016,      0.6026,      0.6036,      0.6046,     0.60561,     0.60661,     0.60761,     0.60861,     0.60961,     0.61061,     0.61161,     0.61261,     0.61361,     0.61461,     0.61562,     0.61662,     0.61762,     0.61862,     0.61962,     0.62062,     0.62162,     0.62262,     0.62362,\n",
       "           0.62462,     0.62563,     0.62663,     0.62763,     0.62863,     0.62963,     0.63063,     0.63163,     0.63263,     0.63363,     0.63463,     0.63564,     0.63664,     0.63764,     0.63864,     0.63964,     0.64064,     0.64164,     0.64264,     0.64364,     0.64464,     0.64565,     0.64665,     0.64765,\n",
       "           0.64865,     0.64965,     0.65065,     0.65165,     0.65265,     0.65365,     0.65465,     0.65566,     0.65666,     0.65766,     0.65866,     0.65966,     0.66066,     0.66166,     0.66266,     0.66366,     0.66466,     0.66567,     0.66667,     0.66767,     0.66867,     0.66967,     0.67067,     0.67167,\n",
       "           0.67267,     0.67367,     0.67467,     0.67568,     0.67668,     0.67768,     0.67868,     0.67968,     0.68068,     0.68168,     0.68268,     0.68368,     0.68468,     0.68569,     0.68669,     0.68769,     0.68869,     0.68969,     0.69069,     0.69169,     0.69269,     0.69369,     0.69469,      0.6957,\n",
       "            0.6967,      0.6977,      0.6987,      0.6997,      0.7007,      0.7017,      0.7027,      0.7037,      0.7047,     0.70571,     0.70671,     0.70771,     0.70871,     0.70971,     0.71071,     0.71171,     0.71271,     0.71371,     0.71471,     0.71572,     0.71672,     0.71772,     0.71872,     0.71972,\n",
       "           0.72072,     0.72172,     0.72272,     0.72372,     0.72472,     0.72573,     0.72673,     0.72773,     0.72873,     0.72973,     0.73073,     0.73173,     0.73273,     0.73373,     0.73473,     0.73574,     0.73674,     0.73774,     0.73874,     0.73974,     0.74074,     0.74174,     0.74274,     0.74374,\n",
       "           0.74474,     0.74575,     0.74675,     0.74775,     0.74875,     0.74975,     0.75075,     0.75175,     0.75275,     0.75375,     0.75475,     0.75576,     0.75676,     0.75776,     0.75876,     0.75976,     0.76076,     0.76176,     0.76276,     0.76376,     0.76476,     0.76577,     0.76677,     0.76777,\n",
       "           0.76877,     0.76977,     0.77077,     0.77177,     0.77277,     0.77377,     0.77477,     0.77578,     0.77678,     0.77778,     0.77878,     0.77978,     0.78078,     0.78178,     0.78278,     0.78378,     0.78478,     0.78579,     0.78679,     0.78779,     0.78879,     0.78979,     0.79079,     0.79179,\n",
       "           0.79279,     0.79379,     0.79479,      0.7958,      0.7968,      0.7978,      0.7988,      0.7998,      0.8008,      0.8018,      0.8028,      0.8038,      0.8048,     0.80581,     0.80681,     0.80781,     0.80881,     0.80981,     0.81081,     0.81181,     0.81281,     0.81381,     0.81481,     0.81582,\n",
       "           0.81682,     0.81782,     0.81882,     0.81982,     0.82082,     0.82182,     0.82282,     0.82382,     0.82482,     0.82583,     0.82683,     0.82783,     0.82883,     0.82983,     0.83083,     0.83183,     0.83283,     0.83383,     0.83483,     0.83584,     0.83684,     0.83784,     0.83884,     0.83984,\n",
       "           0.84084,     0.84184,     0.84284,     0.84384,     0.84484,     0.84585,     0.84685,     0.84785,     0.84885,     0.84985,     0.85085,     0.85185,     0.85285,     0.85385,     0.85485,     0.85586,     0.85686,     0.85786,     0.85886,     0.85986,     0.86086,     0.86186,     0.86286,     0.86386,\n",
       "           0.86486,     0.86587,     0.86687,     0.86787,     0.86887,     0.86987,     0.87087,     0.87187,     0.87287,     0.87387,     0.87487,     0.87588,     0.87688,     0.87788,     0.87888,     0.87988,     0.88088,     0.88188,     0.88288,     0.88388,     0.88488,     0.88589,     0.88689,     0.88789,\n",
       "           0.88889,     0.88989,     0.89089,     0.89189,     0.89289,     0.89389,     0.89489,      0.8959,      0.8969,      0.8979,      0.8989,      0.8999,      0.9009,      0.9019,      0.9029,      0.9039,      0.9049,     0.90591,     0.90691,     0.90791,     0.90891,     0.90991,     0.91091,     0.91191,\n",
       "           0.91291,     0.91391,     0.91491,     0.91592,     0.91692,     0.91792,     0.91892,     0.91992,     0.92092,     0.92192,     0.92292,     0.92392,     0.92492,     0.92593,     0.92693,     0.92793,     0.92893,     0.92993,     0.93093,     0.93193,     0.93293,     0.93393,     0.93493,     0.93594,\n",
       "           0.93694,     0.93794,     0.93894,     0.93994,     0.94094,     0.94194,     0.94294,     0.94394,     0.94494,     0.94595,     0.94695,     0.94795,     0.94895,     0.94995,     0.95095,     0.95195,     0.95295,     0.95395,     0.95495,     0.95596,     0.95696,     0.95796,     0.95896,     0.95996,\n",
       "           0.96096,     0.96196,     0.96296,     0.96396,     0.96496,     0.96597,     0.96697,     0.96797,     0.96897,     0.96997,     0.97097,     0.97197,     0.97297,     0.97397,     0.97497,     0.97598,     0.97698,     0.97798,     0.97898,     0.97998,     0.98098,     0.98198,     0.98298,     0.98398,\n",
       "           0.98498,     0.98599,     0.98699,     0.98799,     0.98899,     0.98999,     0.99099,     0.99199,     0.99299,     0.99399,     0.99499,       0.996,       0.997,       0.998,       0.999,           1]), array([[          1,           1,           1,           1,           1,           1,           1,           1,           1,           1,           1,           1,           1,           1,           1,           1,           1,           1,           1,           1,           1,           1,           1,\n",
       "                  1,           1,           1,           1,           1,           1,           1,           1,           1,           1,           1,           1,           1,           1,           1,           1,           1,           1,           1,           1,           1,           1,           1,\n",
       "                  1,           1,           1,           1,           1,           1,           1,           1,           1,           1,           1,           1,           1,           1,           1,           1,           1,           1,           1,           1,           1,           1,           1,\n",
       "                  1,           1,           1,           1,           1,           1,           1,           1,           1,           1,           1,           1,           1,           1,           1,           1,           1,           1,           1,           1,           1,           1,           1,\n",
       "                  1,           1,           1,           1,           1,           1,           1,           1,           1,           1,           1,           1,           1,           1,           1,           1,           1,           1,           1,           1,           1,           1,           1,\n",
       "                  1,           1,           1,           1,           1,           1,           1,           1,           1,           1,           1,           1,           1,           1,           1,           1,           1,           1,           1,           1,           1,           1,           1,\n",
       "                  1,           1,           1,           1,           1,           1,           1,           1,           1,           1,           1,           1,           1,           1,           1,           1,           1,           1,           1,           1,           1,           1,           1,\n",
       "                  1,           1,           1,           1,           1,           1,           1,           1,           1,           1,           1,           1,           1,           1,           1,           1,           1,           1,           1,           1,           1,           1,           1,\n",
       "                  1,           1,           1,           1,           1,           1,           1,           1,           1,           1,           1,           1,           1,           1,           1,           1,           1,           1,           1,           1,      0.9916,      0.9916,      0.9916,\n",
       "             0.9916,      0.9916,      0.9916,      0.9916,      0.9916,      0.9916,      0.9916,      0.9916,      0.9916,      0.9916,      0.9916,      0.9916,      0.9916,      0.9916,      0.9916,      0.9916,      0.9916,      0.9916,      0.9916,      0.9916,      0.9916,      0.9916,      0.9916,\n",
       "             0.9916,      0.9916,      0.9916,      0.9916,      0.9916,      0.9916,      0.9916,      0.9916,      0.9916,      0.9916,      0.9916,      0.9916,      0.9916,      0.9916,      0.9916,      0.9916,      0.9916,      0.9916,      0.9916,      0.9916,      0.9916,      0.9916,      0.9916,\n",
       "             0.9916,      0.9916,      0.9916,      0.9916,      0.9916,      0.9916,      0.9916,      0.9916,      0.9916,      0.9916,      0.9916,      0.9916,      0.9916,      0.9916,      0.9916,      0.9916,      0.9916,      0.9916,      0.9916,      0.9916,      0.9916,      0.9916,      0.9916,\n",
       "             0.9916,      0.9916,      0.9916,      0.9916,      0.9916,      0.9916,      0.9916,      0.9916,      0.9916,      0.9916,      0.9916,      0.9916,      0.9916,      0.9916,      0.9916,      0.9916,      0.9916,      0.9916,      0.9916,      0.9916,      0.9916,      0.9916,      0.9916,\n",
       "             0.9916,      0.9916,      0.9916,      0.9916,      0.9916,      0.9916,      0.9916,      0.9916,      0.9916,      0.9916,      0.9916,      0.9916,      0.9916,      0.9916,      0.9916,      0.9916,      0.9916,      0.9916,      0.9916,      0.9916,      0.9916,     0.98462,     0.98462,\n",
       "            0.98462,     0.98462,     0.98462,     0.98462,     0.98462,     0.98462,     0.98462,     0.98462,     0.98462,     0.98462,     0.98462,     0.98462,     0.98462,     0.98462,     0.98462,     0.98462,     0.98462,     0.98462,     0.98462,     0.98462,     0.98462,     0.98462,     0.98462,\n",
       "            0.98462,     0.98462,     0.97794,     0.97794,     0.97794,     0.97794,     0.97794,     0.97794,     0.97794,     0.97794,     0.97794,     0.97794,     0.97794,     0.97794,     0.97794,     0.97794,     0.97279,     0.97279,     0.97279,     0.97279,     0.97279,     0.97279,     0.97279,\n",
       "            0.97279,     0.97279,     0.97279,     0.97279,     0.97279,     0.97279,     0.97279,     0.97279,     0.97279,     0.97279,     0.97279,     0.97279,     0.97279,     0.97279,     0.97279,     0.97279,     0.97279,     0.97279,     0.97279,     0.97279,     0.96364,     0.96364,     0.96364,\n",
       "            0.96364,     0.96364,     0.96364,     0.96364,     0.96364,     0.96364,     0.96364,     0.96364,     0.96364,     0.96364,     0.96364,     0.96364,     0.96364,     0.96364,     0.96364,     0.96364,     0.96364,     0.96364,     0.96364,     0.96364,     0.96364,     0.96364,     0.96364,\n",
       "            0.96364,     0.96364,     0.96364,     0.96364,     0.96364,     0.96364,     0.96364,     0.96364,     0.96364,     0.96364,     0.96364,     0.96364,     0.96364,     0.96364,     0.96364,     0.96364,     0.96364,     0.96023,     0.96023,     0.96023,     0.96023,     0.96023,     0.96023,\n",
       "            0.96023,     0.96023,     0.96023,     0.96023,     0.96023,     0.96023,     0.96023,     0.96023,     0.96023,     0.96023,     0.96023,     0.96023,     0.96023,     0.96023,     0.96023,     0.96023,     0.96023,     0.96023,     0.96023,     0.96023,     0.96023,     0.95506,     0.95506,\n",
       "            0.95506,     0.95187,     0.95187,     0.95187,     0.95187,     0.95187,     0.95187,     0.95187,     0.95187,     0.95187,     0.95187,     0.95187,     0.95187,     0.95187,     0.95187,     0.95187,     0.95187,     0.95187,     0.95187,     0.95187,     0.95187,     0.95187,     0.94764,\n",
       "            0.94764,     0.94764,     0.94764,     0.94764,     0.94764,     0.94764,     0.94764,     0.94764,     0.94416,     0.94416,     0.94416,     0.94416,     0.94416,     0.94416,     0.94416,     0.94416,     0.94416,     0.94416,     0.94416,     0.94416,     0.94416,        0.94,        0.94,\n",
       "               0.94,        0.94,        0.94,     0.93627,     0.93627,     0.93627,     0.93627,     0.93627,     0.93627,     0.93627,     0.93627,     0.93627,     0.93392,     0.93392,     0.93392,     0.93392,     0.93392,     0.93392,     0.93392,     0.93392,     0.93392,     0.93392,     0.93392,\n",
       "            0.93392,     0.93392,     0.93392,     0.93392,     0.93392,     0.93392,     0.93392,     0.93392,     0.93392,     0.93392,     0.93392,     0.93392,     0.93392,     0.93392,     0.93392,     0.93392,     0.93392,     0.93392,     0.93392,     0.93392,     0.93392,     0.93392,     0.93392,\n",
       "            0.93392,     0.93392,     0.93392,     0.93392,     0.93392,     0.93392,     0.93392,     0.93392,     0.93392,     0.93392,     0.93392,     0.93392,     0.93392,     0.93392,     0.93392,     0.93392,     0.93392,     0.93392,     0.93392,     0.93392,     0.93392,     0.93392,     0.93103,\n",
       "            0.93103,     0.93103,     0.93103,     0.93103,     0.93103,     0.93103,     0.93103,     0.93103,     0.93103,     0.93103,     0.92766,     0.92766,     0.92766,     0.92766,     0.92766,     0.92766,     0.92469,     0.92469,     0.92469,     0.92469,     0.92469,     0.92469,     0.92469,\n",
       "            0.92469,     0.92181,     0.92181,     0.92181,     0.92181,     0.92181,     0.92181,     0.92181,     0.92181,     0.91837,     0.91837,     0.91837,     0.91498,     0.91498,       0.912,       0.912,       0.912,       0.912,       0.912,       0.912,     0.91016,     0.91016,     0.91016,\n",
       "            0.91016,     0.91016,     0.91016,     0.91016,     0.91016,     0.91016,     0.91016,     0.91016,     0.91016,     0.91016,     0.90875,     0.90875,     0.90875,     0.90875,     0.90875,     0.90875,     0.90875,     0.90875,     0.90875,     0.90875,     0.90875,     0.90875,     0.90875,\n",
       "            0.90875,     0.90875,     0.90875,     0.90875,     0.90672,     0.90672,     0.90672,     0.90672,     0.90672,     0.90672,     0.90672,     0.90672,     0.90672,     0.90672,     0.90406,     0.90406,     0.90406,     0.90406,     0.90406,     0.90406,     0.90217,     0.90217,     0.90217,\n",
       "            0.90217,     0.90217,     0.90217,     0.90217,     0.90217,     0.90217,     0.90217,     0.90217,     0.89964,     0.89964,     0.89964,     0.89964,     0.89964,     0.89399,     0.89399,     0.89399,     0.89399,     0.89399,     0.89161,     0.89161,     0.89161,     0.89161,     0.89161,\n",
       "            0.89161,     0.88889,     0.88889,     0.88889,     0.88621,     0.88621,     0.88475,     0.88475,     0.88475,     0.88475,     0.88475,     0.88475,     0.88475,     0.88475,     0.88475,     0.88475,     0.88475,     0.87919,     0.87919,     0.87919,     0.87261,     0.87261,     0.87261,\n",
       "            0.87261,     0.87261,     0.87261,     0.87261,     0.87261,     0.87261,     0.87261,     0.87261,     0.87261,     0.87261,     0.87261,     0.87261,     0.87261,     0.87261,     0.87261,     0.87261,     0.87261,     0.87261,     0.87261,     0.87261,     0.87261,     0.87261,     0.87261,\n",
       "            0.87261,     0.87261,     0.87261,     0.87261,     0.87261,     0.87261,     0.86207,     0.86207,     0.86207,     0.85981,     0.85981,     0.85981,     0.85759,     0.85759,     0.85671,     0.85671,     0.85671,     0.85671,     0.85671,     0.85671,     0.85671,     0.85671,     0.85671,\n",
       "            0.85671,     0.85671,     0.85285,     0.85285,     0.85285,     0.85285,     0.85285,     0.85285,     0.85285,     0.85285,     0.84821,     0.84821,     0.84821,     0.84615,     0.84615,     0.84615,     0.83918,     0.83918,     0.82997,     0.82997,     0.82997,     0.82336,     0.82336,\n",
       "            0.82336,     0.82153,     0.82153,     0.82153,     0.81972,     0.81972,     0.81337,     0.81337,     0.81337,     0.81163,     0.81163,     0.81163,     0.81044,     0.81044,     0.81044,     0.81044,     0.81044,     0.80874,     0.80874,     0.80874,     0.80054,     0.80054,     0.80054,\n",
       "            0.79467,     0.79467,      0.7931,      0.7931,      0.7931,     0.79156,     0.79156,     0.79156,     0.78646,     0.78646,     0.78646,     0.78646,     0.78646,     0.77892,     0.77892,     0.77892,     0.77354,     0.77354,     0.77354,     0.74939,     0.74939,     0.73735,     0.73735,\n",
       "            0.73735,     0.70901,     0.70901,     0.70901,     0.68293,     0.68293,     0.68062,     0.68062,     0.68062,     0.67982,     0.67982,     0.67982,     0.67974,     0.67974,     0.67974,     0.67974,     0.67974,     0.67457,     0.67457,     0.67457,     0.66951,     0.66951,     0.66951,\n",
       "            0.66879,     0.66879,     0.61961,     0.61961,     0.61961,     0.60038,     0.60038,     0.60038,     0.59551,     0.59551,     0.58394,     0.58394,     0.58394,     0.58394,     0.58394,     0.58394,     0.56814,     0.56814,     0.56814,        0.56,        0.56,     0.54932,     0.54932,\n",
       "            0.54932,     0.52855,     0.52855,     0.52855,     0.51343,     0.51343,     0.48368,     0.48368,     0.48368,     0.41497,     0.41497,     0.41497,     0.40847,     0.40847,     0.38935,     0.38935,     0.38935,     0.37714,     0.37714,     0.37714,     0.34769,     0.34769,     0.34769,\n",
       "            0.34656,     0.34656,     0.34119,     0.34119,     0.34119,     0.33004,     0.33004,     0.33004,     0.32811,     0.32811,     0.32717,     0.32717,     0.32717,      0.3228,      0.3228,      0.3228,      0.2748,      0.2748,      0.2748,     0.25937,     0.25937,     0.25641,     0.25641,\n",
       "            0.25641,        0.25,        0.25,        0.25,        0.24,        0.24,     0.23413,     0.23413,     0.23413,     0.21143,     0.21143,     0.21143,     0.17451,     0.17451,     0.17451,     0.14369,     0.14369,     0.13947,     0.13947,     0.13947,     0.10137,     0.10137,     0.10137,\n",
       "           0.087821,    0.087821,    0.086452,    0.084851,     0.08325,    0.081649,    0.080048,    0.078447,    0.076846,    0.075245,    0.073645,    0.072044,    0.070443,    0.068842,    0.067241,     0.06564,    0.064039,    0.062438,    0.060837,    0.059236,    0.057635,    0.056034,    0.054433,\n",
       "           0.052832,    0.051231,     0.04963,    0.048029,    0.046428,    0.044827,    0.043226,    0.041625,    0.040024,    0.038423,    0.036822,    0.035221,     0.03362,    0.032019,    0.030418,    0.028817,    0.027216,    0.025615,    0.024015,    0.022414,    0.020813,    0.019212,    0.017611,\n",
       "            0.01601,    0.014409,    0.012808,    0.011207,   0.0096058,   0.0080048,   0.0064039,   0.0048029,   0.0032019,    0.001601,           0]]), 'Recall', 'Precision'], [array([          0,    0.001001,    0.002002,    0.003003,    0.004004,    0.005005,    0.006006,    0.007007,    0.008008,    0.009009,     0.01001,    0.011011,    0.012012,    0.013013,    0.014014,    0.015015,    0.016016,    0.017017,    0.018018,    0.019019,     0.02002,    0.021021,    0.022022,    0.023023,\n",
       "          0.024024,    0.025025,    0.026026,    0.027027,    0.028028,    0.029029,     0.03003,    0.031031,    0.032032,    0.033033,    0.034034,    0.035035,    0.036036,    0.037037,    0.038038,    0.039039,     0.04004,    0.041041,    0.042042,    0.043043,    0.044044,    0.045045,    0.046046,    0.047047,\n",
       "          0.048048,    0.049049,     0.05005,    0.051051,    0.052052,    0.053053,    0.054054,    0.055055,    0.056056,    0.057057,    0.058058,    0.059059,     0.06006,    0.061061,    0.062062,    0.063063,    0.064064,    0.065065,    0.066066,    0.067067,    0.068068,    0.069069,     0.07007,    0.071071,\n",
       "          0.072072,    0.073073,    0.074074,    0.075075,    0.076076,    0.077077,    0.078078,    0.079079,     0.08008,    0.081081,    0.082082,    0.083083,    0.084084,    0.085085,    0.086086,    0.087087,    0.088088,    0.089089,     0.09009,    0.091091,    0.092092,    0.093093,    0.094094,    0.095095,\n",
       "          0.096096,    0.097097,    0.098098,    0.099099,      0.1001,      0.1011,      0.1021,      0.1031,      0.1041,     0.10511,     0.10611,     0.10711,     0.10811,     0.10911,     0.11011,     0.11111,     0.11211,     0.11311,     0.11411,     0.11512,     0.11612,     0.11712,     0.11812,     0.11912,\n",
       "           0.12012,     0.12112,     0.12212,     0.12312,     0.12412,     0.12513,     0.12613,     0.12713,     0.12813,     0.12913,     0.13013,     0.13113,     0.13213,     0.13313,     0.13413,     0.13514,     0.13614,     0.13714,     0.13814,     0.13914,     0.14014,     0.14114,     0.14214,     0.14314,\n",
       "           0.14414,     0.14515,     0.14615,     0.14715,     0.14815,     0.14915,     0.15015,     0.15115,     0.15215,     0.15315,     0.15415,     0.15516,     0.15616,     0.15716,     0.15816,     0.15916,     0.16016,     0.16116,     0.16216,     0.16316,     0.16416,     0.16517,     0.16617,     0.16717,\n",
       "           0.16817,     0.16917,     0.17017,     0.17117,     0.17217,     0.17317,     0.17417,     0.17518,     0.17618,     0.17718,     0.17818,     0.17918,     0.18018,     0.18118,     0.18218,     0.18318,     0.18418,     0.18519,     0.18619,     0.18719,     0.18819,     0.18919,     0.19019,     0.19119,\n",
       "           0.19219,     0.19319,     0.19419,      0.1952,      0.1962,      0.1972,      0.1982,      0.1992,      0.2002,      0.2012,      0.2022,      0.2032,      0.2042,     0.20521,     0.20621,     0.20721,     0.20821,     0.20921,     0.21021,     0.21121,     0.21221,     0.21321,     0.21421,     0.21522,\n",
       "           0.21622,     0.21722,     0.21822,     0.21922,     0.22022,     0.22122,     0.22222,     0.22322,     0.22422,     0.22523,     0.22623,     0.22723,     0.22823,     0.22923,     0.23023,     0.23123,     0.23223,     0.23323,     0.23423,     0.23524,     0.23624,     0.23724,     0.23824,     0.23924,\n",
       "           0.24024,     0.24124,     0.24224,     0.24324,     0.24424,     0.24525,     0.24625,     0.24725,     0.24825,     0.24925,     0.25025,     0.25125,     0.25225,     0.25325,     0.25425,     0.25526,     0.25626,     0.25726,     0.25826,     0.25926,     0.26026,     0.26126,     0.26226,     0.26326,\n",
       "           0.26426,     0.26527,     0.26627,     0.26727,     0.26827,     0.26927,     0.27027,     0.27127,     0.27227,     0.27327,     0.27427,     0.27528,     0.27628,     0.27728,     0.27828,     0.27928,     0.28028,     0.28128,     0.28228,     0.28328,     0.28428,     0.28529,     0.28629,     0.28729,\n",
       "           0.28829,     0.28929,     0.29029,     0.29129,     0.29229,     0.29329,     0.29429,      0.2953,      0.2963,      0.2973,      0.2983,      0.2993,      0.3003,      0.3013,      0.3023,      0.3033,      0.3043,     0.30531,     0.30631,     0.30731,     0.30831,     0.30931,     0.31031,     0.31131,\n",
       "           0.31231,     0.31331,     0.31431,     0.31532,     0.31632,     0.31732,     0.31832,     0.31932,     0.32032,     0.32132,     0.32232,     0.32332,     0.32432,     0.32533,     0.32633,     0.32733,     0.32833,     0.32933,     0.33033,     0.33133,     0.33233,     0.33333,     0.33433,     0.33534,\n",
       "           0.33634,     0.33734,     0.33834,     0.33934,     0.34034,     0.34134,     0.34234,     0.34334,     0.34434,     0.34535,     0.34635,     0.34735,     0.34835,     0.34935,     0.35035,     0.35135,     0.35235,     0.35335,     0.35435,     0.35536,     0.35636,     0.35736,     0.35836,     0.35936,\n",
       "           0.36036,     0.36136,     0.36236,     0.36336,     0.36436,     0.36537,     0.36637,     0.36737,     0.36837,     0.36937,     0.37037,     0.37137,     0.37237,     0.37337,     0.37437,     0.37538,     0.37638,     0.37738,     0.37838,     0.37938,     0.38038,     0.38138,     0.38238,     0.38338,\n",
       "           0.38438,     0.38539,     0.38639,     0.38739,     0.38839,     0.38939,     0.39039,     0.39139,     0.39239,     0.39339,     0.39439,      0.3954,      0.3964,      0.3974,      0.3984,      0.3994,      0.4004,      0.4014,      0.4024,      0.4034,      0.4044,     0.40541,     0.40641,     0.40741,\n",
       "           0.40841,     0.40941,     0.41041,     0.41141,     0.41241,     0.41341,     0.41441,     0.41542,     0.41642,     0.41742,     0.41842,     0.41942,     0.42042,     0.42142,     0.42242,     0.42342,     0.42442,     0.42543,     0.42643,     0.42743,     0.42843,     0.42943,     0.43043,     0.43143,\n",
       "           0.43243,     0.43343,     0.43443,     0.43544,     0.43644,     0.43744,     0.43844,     0.43944,     0.44044,     0.44144,     0.44244,     0.44344,     0.44444,     0.44545,     0.44645,     0.44745,     0.44845,     0.44945,     0.45045,     0.45145,     0.45245,     0.45345,     0.45445,     0.45546,\n",
       "           0.45646,     0.45746,     0.45846,     0.45946,     0.46046,     0.46146,     0.46246,     0.46346,     0.46446,     0.46547,     0.46647,     0.46747,     0.46847,     0.46947,     0.47047,     0.47147,     0.47247,     0.47347,     0.47447,     0.47548,     0.47648,     0.47748,     0.47848,     0.47948,\n",
       "           0.48048,     0.48148,     0.48248,     0.48348,     0.48448,     0.48549,     0.48649,     0.48749,     0.48849,     0.48949,     0.49049,     0.49149,     0.49249,     0.49349,     0.49449,      0.4955,      0.4965,      0.4975,      0.4985,      0.4995,      0.5005,      0.5015,      0.5025,      0.5035,\n",
       "            0.5045,     0.50551,     0.50651,     0.50751,     0.50851,     0.50951,     0.51051,     0.51151,     0.51251,     0.51351,     0.51451,     0.51552,     0.51652,     0.51752,     0.51852,     0.51952,     0.52052,     0.52152,     0.52252,     0.52352,     0.52452,     0.52553,     0.52653,     0.52753,\n",
       "           0.52853,     0.52953,     0.53053,     0.53153,     0.53253,     0.53353,     0.53453,     0.53554,     0.53654,     0.53754,     0.53854,     0.53954,     0.54054,     0.54154,     0.54254,     0.54354,     0.54454,     0.54555,     0.54655,     0.54755,     0.54855,     0.54955,     0.55055,     0.55155,\n",
       "           0.55255,     0.55355,     0.55455,     0.55556,     0.55656,     0.55756,     0.55856,     0.55956,     0.56056,     0.56156,     0.56256,     0.56356,     0.56456,     0.56557,     0.56657,     0.56757,     0.56857,     0.56957,     0.57057,     0.57157,     0.57257,     0.57357,     0.57457,     0.57558,\n",
       "           0.57658,     0.57758,     0.57858,     0.57958,     0.58058,     0.58158,     0.58258,     0.58358,     0.58458,     0.58559,     0.58659,     0.58759,     0.58859,     0.58959,     0.59059,     0.59159,     0.59259,     0.59359,     0.59459,      0.5956,      0.5966,      0.5976,      0.5986,      0.5996,\n",
       "            0.6006,      0.6016,      0.6026,      0.6036,      0.6046,     0.60561,     0.60661,     0.60761,     0.60861,     0.60961,     0.61061,     0.61161,     0.61261,     0.61361,     0.61461,     0.61562,     0.61662,     0.61762,     0.61862,     0.61962,     0.62062,     0.62162,     0.62262,     0.62362,\n",
       "           0.62462,     0.62563,     0.62663,     0.62763,     0.62863,     0.62963,     0.63063,     0.63163,     0.63263,     0.63363,     0.63463,     0.63564,     0.63664,     0.63764,     0.63864,     0.63964,     0.64064,     0.64164,     0.64264,     0.64364,     0.64464,     0.64565,     0.64665,     0.64765,\n",
       "           0.64865,     0.64965,     0.65065,     0.65165,     0.65265,     0.65365,     0.65465,     0.65566,     0.65666,     0.65766,     0.65866,     0.65966,     0.66066,     0.66166,     0.66266,     0.66366,     0.66466,     0.66567,     0.66667,     0.66767,     0.66867,     0.66967,     0.67067,     0.67167,\n",
       "           0.67267,     0.67367,     0.67467,     0.67568,     0.67668,     0.67768,     0.67868,     0.67968,     0.68068,     0.68168,     0.68268,     0.68368,     0.68468,     0.68569,     0.68669,     0.68769,     0.68869,     0.68969,     0.69069,     0.69169,     0.69269,     0.69369,     0.69469,      0.6957,\n",
       "            0.6967,      0.6977,      0.6987,      0.6997,      0.7007,      0.7017,      0.7027,      0.7037,      0.7047,     0.70571,     0.70671,     0.70771,     0.70871,     0.70971,     0.71071,     0.71171,     0.71271,     0.71371,     0.71471,     0.71572,     0.71672,     0.71772,     0.71872,     0.71972,\n",
       "           0.72072,     0.72172,     0.72272,     0.72372,     0.72472,     0.72573,     0.72673,     0.72773,     0.72873,     0.72973,     0.73073,     0.73173,     0.73273,     0.73373,     0.73473,     0.73574,     0.73674,     0.73774,     0.73874,     0.73974,     0.74074,     0.74174,     0.74274,     0.74374,\n",
       "           0.74474,     0.74575,     0.74675,     0.74775,     0.74875,     0.74975,     0.75075,     0.75175,     0.75275,     0.75375,     0.75475,     0.75576,     0.75676,     0.75776,     0.75876,     0.75976,     0.76076,     0.76176,     0.76276,     0.76376,     0.76476,     0.76577,     0.76677,     0.76777,\n",
       "           0.76877,     0.76977,     0.77077,     0.77177,     0.77277,     0.77377,     0.77477,     0.77578,     0.77678,     0.77778,     0.77878,     0.77978,     0.78078,     0.78178,     0.78278,     0.78378,     0.78478,     0.78579,     0.78679,     0.78779,     0.78879,     0.78979,     0.79079,     0.79179,\n",
       "           0.79279,     0.79379,     0.79479,      0.7958,      0.7968,      0.7978,      0.7988,      0.7998,      0.8008,      0.8018,      0.8028,      0.8038,      0.8048,     0.80581,     0.80681,     0.80781,     0.80881,     0.80981,     0.81081,     0.81181,     0.81281,     0.81381,     0.81481,     0.81582,\n",
       "           0.81682,     0.81782,     0.81882,     0.81982,     0.82082,     0.82182,     0.82282,     0.82382,     0.82482,     0.82583,     0.82683,     0.82783,     0.82883,     0.82983,     0.83083,     0.83183,     0.83283,     0.83383,     0.83483,     0.83584,     0.83684,     0.83784,     0.83884,     0.83984,\n",
       "           0.84084,     0.84184,     0.84284,     0.84384,     0.84484,     0.84585,     0.84685,     0.84785,     0.84885,     0.84985,     0.85085,     0.85185,     0.85285,     0.85385,     0.85485,     0.85586,     0.85686,     0.85786,     0.85886,     0.85986,     0.86086,     0.86186,     0.86286,     0.86386,\n",
       "           0.86486,     0.86587,     0.86687,     0.86787,     0.86887,     0.86987,     0.87087,     0.87187,     0.87287,     0.87387,     0.87487,     0.87588,     0.87688,     0.87788,     0.87888,     0.87988,     0.88088,     0.88188,     0.88288,     0.88388,     0.88488,     0.88589,     0.88689,     0.88789,\n",
       "           0.88889,     0.88989,     0.89089,     0.89189,     0.89289,     0.89389,     0.89489,      0.8959,      0.8969,      0.8979,      0.8989,      0.8999,      0.9009,      0.9019,      0.9029,      0.9039,      0.9049,     0.90591,     0.90691,     0.90791,     0.90891,     0.90991,     0.91091,     0.91191,\n",
       "           0.91291,     0.91391,     0.91491,     0.91592,     0.91692,     0.91792,     0.91892,     0.91992,     0.92092,     0.92192,     0.92292,     0.92392,     0.92492,     0.92593,     0.92693,     0.92793,     0.92893,     0.92993,     0.93093,     0.93193,     0.93293,     0.93393,     0.93493,     0.93594,\n",
       "           0.93694,     0.93794,     0.93894,     0.93994,     0.94094,     0.94194,     0.94294,     0.94394,     0.94494,     0.94595,     0.94695,     0.94795,     0.94895,     0.94995,     0.95095,     0.95195,     0.95295,     0.95395,     0.95495,     0.95596,     0.95696,     0.95796,     0.95896,     0.95996,\n",
       "           0.96096,     0.96196,     0.96296,     0.96396,     0.96496,     0.96597,     0.96697,     0.96797,     0.96897,     0.96997,     0.97097,     0.97197,     0.97297,     0.97397,     0.97497,     0.97598,     0.97698,     0.97798,     0.97898,     0.97998,     0.98098,     0.98198,     0.98298,     0.98398,\n",
       "           0.98498,     0.98599,     0.98699,     0.98799,     0.98899,     0.98999,     0.99099,     0.99199,     0.99299,     0.99399,     0.99499,       0.996,       0.997,       0.998,       0.999,           1]), array([[    0.15882,     0.15926,     0.29873,     0.37111,     0.41377,     0.45372,     0.48014,     0.49487,     0.50824,     0.52581,     0.54171,     0.55862,     0.56871,     0.57855,     0.58823,     0.59846,     0.60753,     0.61767,     0.62346,     0.62558,     0.63218,     0.63974,     0.64968,\n",
       "            0.65468,     0.65974,     0.66347,     0.67239,     0.67571,     0.67915,     0.68261,     0.68572,     0.68706,     0.68888,     0.69438,     0.69654,     0.69824,     0.70065,     0.70283,     0.70319,     0.70679,     0.70665,     0.70787,     0.71053,     0.71142,     0.71372,     0.71685,\n",
       "            0.71857,     0.71873,     0.72103,     0.72521,      0.7306,      0.7323,     0.73458,     0.73606,     0.73726,     0.74144,       0.742,     0.74337,     0.74497,     0.74589,     0.74822,     0.74932,     0.74984,      0.7505,     0.75291,     0.75333,     0.75329,      0.7522,     0.75097,\n",
       "            0.75058,     0.74946,     0.75082,     0.74996,     0.75277,     0.75379,     0.75446,     0.75499,     0.75553,     0.75607,     0.75767,      0.7589,      0.7596,      0.7612,     0.76292,      0.7636,     0.76412,     0.76461,     0.76529,     0.76521,     0.76455,     0.76414,     0.76454,\n",
       "            0.76493,     0.76527,     0.76559,     0.76591,     0.76649,     0.76789,     0.76951,     0.77132,     0.77186,     0.77214,     0.77241,     0.77268,     0.77394,     0.77453,      0.7753,     0.77578,     0.77597,     0.77617,     0.77636,     0.77656,     0.77703,     0.77768,     0.77793,\n",
       "            0.77819,     0.77844,     0.77955,     0.78031,     0.77982,     0.77932,     0.77917,     0.77943,     0.77968,     0.77993,     0.78059,     0.78211,     0.78223,     0.78236,     0.78248,     0.78261,     0.78273,     0.78286,     0.78298,     0.78411,     0.78458,     0.78505,     0.78524,\n",
       "            0.78542,      0.7856,     0.78578,     0.78596,     0.78495,      0.7847,      0.7849,      0.7851,      0.7853,     0.78551,     0.78582,     0.78615,     0.78648,     0.78861,     0.78889,     0.78917,     0.78946,     0.78981,     0.79023,     0.79073,     0.79185,      0.7921,     0.79236,\n",
       "            0.79261,      0.7948,     0.79493,     0.79505,     0.79518,      0.7953,     0.79542,     0.79555,     0.79567,      0.7958,     0.79772,     0.79723,     0.79674,      0.7964,      0.7969,     0.79742,     0.79804,     0.79789,     0.79803,     0.79818,     0.79833,     0.79848,     0.79863,\n",
       "            0.79877,     0.79892,     0.80147,     0.80153,     0.80065,     0.80052,     0.80193,     0.80124,     0.80062,     0.80089,     0.80116,     0.80143,      0.8013,     0.80041,     0.79963,     0.80071,     0.80107,     0.80143,      0.8022,     0.80152,     0.80197,     0.80333,       0.804,\n",
       "            0.80468,     0.80535,     0.80475,     0.80395,     0.80419,     0.80306,     0.80237,     0.80169,     0.80264,     0.80231,     0.80199,     0.80166,     0.80133,     0.80132,     0.80211,     0.80105,     0.80199,      0.8028,     0.80297,     0.80315,     0.80333,      0.8035,     0.80368,\n",
       "            0.80385,     0.80367,     0.80345,     0.80323,     0.80301,      0.8028,     0.80258,     0.80236,     0.80238,     0.80289,     0.80321,     0.80247,     0.80174,     0.80192,      0.8022,     0.80248,     0.80276,      0.8024,       0.802,      0.8016,      0.8012,     0.80236,     0.80267,\n",
       "            0.80297,     0.80328,     0.80367,      0.8041,     0.80406,       0.804,      0.8052,     0.80542,     0.80564,     0.80585,     0.80607,     0.80595,     0.80575,     0.80588,     0.80601,     0.80614,     0.80626,     0.80639,     0.80652,     0.80665,     0.80678,     0.80699,     0.80719,\n",
       "             0.8074,      0.8076,      0.8078,     0.80817,      0.8087,     0.80893,     0.80856,     0.80819,     0.80782,     0.80745,      0.8091,     0.80868,     0.80827,     0.80785,     0.80743,     0.80571,     0.80542,     0.80512,     0.80482,     0.80453,     0.80423,     0.80405,     0.80422,\n",
       "            0.80438,     0.80455,     0.80472,     0.80489,     0.80506,     0.80521,     0.80533,     0.80545,     0.80558,      0.8057,     0.80582,     0.80594,     0.80607,     0.80619,     0.80631,     0.80621,     0.80611,       0.806,      0.8059,      0.8058,     0.80569,     0.80559,     0.80549,\n",
       "            0.80538,     0.80528,     0.80518,     0.80507,     0.80497,     0.80487,     0.80477,     0.80466,      0.8044,     0.80389,     0.80337,     0.80286,     0.80242,     0.80198,     0.80154,     0.80046,     0.80015,     0.80041,     0.80011,      0.7998,     0.79949,     0.79918,     0.79887,\n",
       "            0.79902,     0.79922,     0.79941,      0.7996,      0.7998,     0.79999,     0.79841,     0.79866,     0.79891,     0.79917,     0.79942,     0.79778,     0.79817,     0.79856,     0.79895,     0.79932,     0.79969,     0.80011,     0.80078,     0.80122,     0.80135,     0.80148,      0.8016,\n",
       "            0.80173,     0.80186,     0.80198,     0.80211,     0.80224,      0.8012,     0.80037,     0.80014,     0.79991,     0.79968,     0.79945,     0.79921,     0.79898,     0.79529,     0.79511,     0.79493,     0.79475,     0.79458,      0.7944,     0.79422,     0.79404,     0.79387,     0.79369,\n",
       "            0.79351,     0.79332,     0.79313,     0.79294,     0.79275,     0.79257,     0.79238,     0.79219,       0.792,     0.79181,     0.79165,     0.79152,      0.7914,     0.79127,     0.79114,     0.79101,     0.79088,     0.79075,     0.79062,     0.79049,     0.79036,     0.79023,      0.7901,\n",
       "            0.78997,     0.79064,     0.79102,     0.79082,     0.79062,     0.79042,     0.79022,     0.79003,     0.78983,     0.78963,     0.78943,     0.78916,     0.78879,     0.78841,     0.78804,     0.78767,     0.78726,     0.78682,     0.78639,     0.78595,     0.78444,     0.78251,     0.78423,\n",
       "            0.78487,     0.78538,     0.78535,     0.78487,     0.78439,     0.78391,     0.78417,     0.78469,     0.78516,     0.78558,     0.78599,     0.78577,     0.78519,      0.7846,     0.78383,     0.78286,       0.782,     0.78121,     0.78029,     0.77901,     0.77932,     0.77813,     0.77834,\n",
       "            0.77854,     0.77875,     0.77896,     0.77916,     0.77916,     0.77875,     0.77834,     0.77793,     0.77752,      0.7775,     0.77757,     0.77764,     0.77772,     0.77779,     0.77786,     0.77793,     0.77801,     0.77808,     0.77815,     0.77822,      0.7783,     0.77837,     0.77844,\n",
       "            0.77852,     0.77859,     0.77849,     0.77821,     0.77793,     0.77764,     0.77736,     0.77708,     0.77679,     0.77636,     0.77592,     0.77547,     0.77502,       0.775,     0.77516,     0.77532,     0.77548,     0.77564,     0.77581,     0.77597,     0.77405,      0.7734,     0.77275,\n",
       "            0.77234,     0.77246,     0.77258,     0.77269,     0.77281,     0.77293,     0.77304,     0.77316,     0.77328,     0.77339,     0.77356,     0.77436,     0.77439,     0.77389,     0.77338,     0.77287,     0.77191,      0.7709,      0.7711,     0.77129,     0.77149,     0.77168,     0.77188,\n",
       "            0.77207,     0.76974,     0.76842,     0.76466,     0.76533,     0.76419,     0.76301,      0.7621,     0.76203,     0.76248,     0.76292,     0.76257,     0.76215,     0.76173,     0.76132,     0.76085,     0.76022,      0.7596,     0.75894,     0.75812,     0.75729,     0.75577,     0.75617,\n",
       "            0.75485,     0.75229,     0.75092,      0.7502,     0.74988,     0.74956,     0.74924,     0.74892,      0.7486,     0.74814,     0.74746,     0.74678,     0.74614,     0.74553,     0.74492,     0.74442,      0.7445,     0.74457,     0.74465,     0.74473,     0.74481,     0.74488,     0.74496,\n",
       "            0.74504,     0.74511,     0.74519,     0.74527,     0.74534,     0.74542,      0.7455,     0.74557,     0.74479,     0.74338,     0.73988,     0.73914,     0.73868,     0.73821,     0.73775,     0.73597,     0.73561,     0.73575,      0.7359,     0.73605,     0.73619,     0.73634,     0.73649,\n",
       "            0.73663,     0.73648,     0.73623,     0.73597,     0.73571,     0.73546,      0.7352,     0.73494,     0.73468,      0.7344,     0.73411,     0.73382,     0.73353,     0.73325,     0.73296,     0.73267,     0.73269,     0.73286,     0.73303,      0.7332,     0.73337,     0.73354,     0.73371,\n",
       "            0.73331,     0.73262,     0.73193,      0.7319,     0.73219,     0.73247,     0.73275,     0.73228,     0.73102,     0.73113,     0.73148,     0.73183,     0.73134,     0.72839,      0.7272,     0.72649,     0.72578,     0.72593,     0.72609,     0.72624,     0.72639,     0.72655,      0.7267,\n",
       "            0.72685,     0.72533,      0.7228,     0.72098,     0.72157,     0.72167,     0.72131,     0.72094,     0.72058,     0.72022,     0.71985,     0.71776,     0.71788,     0.71816,     0.71844,     0.71873,     0.71483,     0.71364,     0.71269,     0.71036,      0.7109,     0.71119,     0.70888,\n",
       "            0.70833,     0.70779,     0.70724,     0.70591,      0.7041,     0.70232,     0.70098,     0.69972,     0.69849,     0.69786,     0.69734,     0.69682,      0.6963,     0.69428,        0.69,     0.68411,     0.68274,     0.68132,     0.68021,     0.67963,     0.67905,     0.67847,     0.67516,\n",
       "            0.66899,     0.66959,     0.66987,     0.66582,     0.66599,     0.66494,     0.66362,     0.66192,     0.66036,     0.65978,     0.65612,     0.65699,     0.65532,     0.64994,     0.64659,     0.64566,     0.64631,      0.6423,     0.63954,     0.63935,      0.6396,     0.63985,      0.6401,\n",
       "            0.63981,     0.63793,     0.63631,      0.6348,     0.63345,     0.62893,     0.62718,     0.62593,     0.62494,     0.62412,      0.6233,     0.62137,     0.62123,     0.62019,      0.6198,     0.61503,     0.61447,     0.61391,     0.61334,     0.61278,     0.60989,     0.60796,      0.6067,\n",
       "            0.60571,     0.60464,     0.60295,     0.60009,     0.59698,     0.59643,     0.59588,     0.59534,     0.59479,     0.59458,     0.59527,       0.592,     0.58529,     0.58362,     0.58225,      0.5768,     0.57502,     0.57131,     0.56713,     0.56184,     0.55943,     0.55581,     0.55354,\n",
       "            0.55231,     0.55338,     0.55381,     0.55424,     0.55109,     0.54798,     0.54515,     0.54359,     0.53945,     0.53386,     0.52754,     0.52573,     0.52637,     0.52319,     0.52191,     0.52051,     0.51861,      0.5176,      0.5171,      0.5166,     0.51609,     0.51559,     0.51508,\n",
       "            0.51267,     0.50592,     0.50368,     0.50071,     0.49888,     0.49369,     0.48981,     0.48797,     0.48671,     0.48514,      0.4829,     0.47142,     0.46447,     0.46056,     0.45638,     0.45119,     0.44923,     0.44431,     0.44277,     0.44154,     0.44054,     0.43955,     0.43804,\n",
       "            0.43239,     0.41529,     0.41331,     0.41156,     0.41025,     0.40894,      0.4073,     0.40554,     0.40435,     0.40331,     0.40227,     0.39863,     0.39319,     0.39146,     0.37646,     0.37329,       0.372,      0.3707,     0.36244,     0.36087,     0.35931,     0.35301,     0.34716,\n",
       "            0.34548,     0.34055,     0.33966,     0.33878,     0.33789,     0.33781,       0.335,     0.32999,      0.3271,     0.32437,     0.30974,     0.29983,     0.29868,     0.29778,     0.29687,     0.29596,     0.28895,     0.27095,      0.2615,     0.25334,     0.24933,     0.24615,      0.2426,\n",
       "            0.24094,     0.23929,     0.23677,     0.23367,     0.23038,     0.22443,      0.2175,     0.21512,     0.21263,     0.20881,     0.20543,     0.20059,     0.19034,     0.18729,     0.17628,     0.16581,     0.16189,     0.15931,     0.15744,     0.15557,     0.15397,     0.15249,       0.151,\n",
       "            0.14955,     0.14812,     0.14669,     0.13845,     0.13322,     0.13001,     0.12656,     0.11857,     0.11527,     0.11253,     0.10995,     0.10657,     0.10035,    0.096949,    0.094633,    0.082868,     0.07982,     0.07564,    0.070273,    0.064074,    0.061318,    0.059332,    0.056949,\n",
       "           0.053533,    0.047254,     0.04478,    0.042371,    0.041142,    0.039912,    0.038681,    0.037448,    0.032254,    0.031382,    0.030736,     0.03009,    0.029443,    0.028796,    0.028149,    0.027501,    0.026853,    0.024851,    0.022553,    0.018845,     0.01559,    0.014413,    0.013236,\n",
       "           0.012056,    0.010876,    0.010311,   0.0097997,   0.0092879,   0.0087759,   0.0082636,    0.007751,   0.0072382,   0.0067251,   0.0062118,   0.0056981,           0,           0,           0,           0,           0,           0,           0,           0,           0,           0,           0,\n",
       "                  0,           0,           0,           0,           0,           0,           0,           0,           0,           0,           0,           0,           0,           0,           0,           0,           0,           0,           0,           0,           0,           0,           0,\n",
       "                  0,           0,           0,           0,           0,           0,           0,           0,           0,           0,           0,           0,           0,           0,           0,           0,           0,           0,           0,           0,           0,           0,           0,\n",
       "                  0,           0,           0,           0,           0,           0,           0,           0,           0,           0,           0]]), 'Confidence', 'F1'], [array([          0,    0.001001,    0.002002,    0.003003,    0.004004,    0.005005,    0.006006,    0.007007,    0.008008,    0.009009,     0.01001,    0.011011,    0.012012,    0.013013,    0.014014,    0.015015,    0.016016,    0.017017,    0.018018,    0.019019,     0.02002,    0.021021,    0.022022,    0.023023,\n",
       "          0.024024,    0.025025,    0.026026,    0.027027,    0.028028,    0.029029,     0.03003,    0.031031,    0.032032,    0.033033,    0.034034,    0.035035,    0.036036,    0.037037,    0.038038,    0.039039,     0.04004,    0.041041,    0.042042,    0.043043,    0.044044,    0.045045,    0.046046,    0.047047,\n",
       "          0.048048,    0.049049,     0.05005,    0.051051,    0.052052,    0.053053,    0.054054,    0.055055,    0.056056,    0.057057,    0.058058,    0.059059,     0.06006,    0.061061,    0.062062,    0.063063,    0.064064,    0.065065,    0.066066,    0.067067,    0.068068,    0.069069,     0.07007,    0.071071,\n",
       "          0.072072,    0.073073,    0.074074,    0.075075,    0.076076,    0.077077,    0.078078,    0.079079,     0.08008,    0.081081,    0.082082,    0.083083,    0.084084,    0.085085,    0.086086,    0.087087,    0.088088,    0.089089,     0.09009,    0.091091,    0.092092,    0.093093,    0.094094,    0.095095,\n",
       "          0.096096,    0.097097,    0.098098,    0.099099,      0.1001,      0.1011,      0.1021,      0.1031,      0.1041,     0.10511,     0.10611,     0.10711,     0.10811,     0.10911,     0.11011,     0.11111,     0.11211,     0.11311,     0.11411,     0.11512,     0.11612,     0.11712,     0.11812,     0.11912,\n",
       "           0.12012,     0.12112,     0.12212,     0.12312,     0.12412,     0.12513,     0.12613,     0.12713,     0.12813,     0.12913,     0.13013,     0.13113,     0.13213,     0.13313,     0.13413,     0.13514,     0.13614,     0.13714,     0.13814,     0.13914,     0.14014,     0.14114,     0.14214,     0.14314,\n",
       "           0.14414,     0.14515,     0.14615,     0.14715,     0.14815,     0.14915,     0.15015,     0.15115,     0.15215,     0.15315,     0.15415,     0.15516,     0.15616,     0.15716,     0.15816,     0.15916,     0.16016,     0.16116,     0.16216,     0.16316,     0.16416,     0.16517,     0.16617,     0.16717,\n",
       "           0.16817,     0.16917,     0.17017,     0.17117,     0.17217,     0.17317,     0.17417,     0.17518,     0.17618,     0.17718,     0.17818,     0.17918,     0.18018,     0.18118,     0.18218,     0.18318,     0.18418,     0.18519,     0.18619,     0.18719,     0.18819,     0.18919,     0.19019,     0.19119,\n",
       "           0.19219,     0.19319,     0.19419,      0.1952,      0.1962,      0.1972,      0.1982,      0.1992,      0.2002,      0.2012,      0.2022,      0.2032,      0.2042,     0.20521,     0.20621,     0.20721,     0.20821,     0.20921,     0.21021,     0.21121,     0.21221,     0.21321,     0.21421,     0.21522,\n",
       "           0.21622,     0.21722,     0.21822,     0.21922,     0.22022,     0.22122,     0.22222,     0.22322,     0.22422,     0.22523,     0.22623,     0.22723,     0.22823,     0.22923,     0.23023,     0.23123,     0.23223,     0.23323,     0.23423,     0.23524,     0.23624,     0.23724,     0.23824,     0.23924,\n",
       "           0.24024,     0.24124,     0.24224,     0.24324,     0.24424,     0.24525,     0.24625,     0.24725,     0.24825,     0.24925,     0.25025,     0.25125,     0.25225,     0.25325,     0.25425,     0.25526,     0.25626,     0.25726,     0.25826,     0.25926,     0.26026,     0.26126,     0.26226,     0.26326,\n",
       "           0.26426,     0.26527,     0.26627,     0.26727,     0.26827,     0.26927,     0.27027,     0.27127,     0.27227,     0.27327,     0.27427,     0.27528,     0.27628,     0.27728,     0.27828,     0.27928,     0.28028,     0.28128,     0.28228,     0.28328,     0.28428,     0.28529,     0.28629,     0.28729,\n",
       "           0.28829,     0.28929,     0.29029,     0.29129,     0.29229,     0.29329,     0.29429,      0.2953,      0.2963,      0.2973,      0.2983,      0.2993,      0.3003,      0.3013,      0.3023,      0.3033,      0.3043,     0.30531,     0.30631,     0.30731,     0.30831,     0.30931,     0.31031,     0.31131,\n",
       "           0.31231,     0.31331,     0.31431,     0.31532,     0.31632,     0.31732,     0.31832,     0.31932,     0.32032,     0.32132,     0.32232,     0.32332,     0.32432,     0.32533,     0.32633,     0.32733,     0.32833,     0.32933,     0.33033,     0.33133,     0.33233,     0.33333,     0.33433,     0.33534,\n",
       "           0.33634,     0.33734,     0.33834,     0.33934,     0.34034,     0.34134,     0.34234,     0.34334,     0.34434,     0.34535,     0.34635,     0.34735,     0.34835,     0.34935,     0.35035,     0.35135,     0.35235,     0.35335,     0.35435,     0.35536,     0.35636,     0.35736,     0.35836,     0.35936,\n",
       "           0.36036,     0.36136,     0.36236,     0.36336,     0.36436,     0.36537,     0.36637,     0.36737,     0.36837,     0.36937,     0.37037,     0.37137,     0.37237,     0.37337,     0.37437,     0.37538,     0.37638,     0.37738,     0.37838,     0.37938,     0.38038,     0.38138,     0.38238,     0.38338,\n",
       "           0.38438,     0.38539,     0.38639,     0.38739,     0.38839,     0.38939,     0.39039,     0.39139,     0.39239,     0.39339,     0.39439,      0.3954,      0.3964,      0.3974,      0.3984,      0.3994,      0.4004,      0.4014,      0.4024,      0.4034,      0.4044,     0.40541,     0.40641,     0.40741,\n",
       "           0.40841,     0.40941,     0.41041,     0.41141,     0.41241,     0.41341,     0.41441,     0.41542,     0.41642,     0.41742,     0.41842,     0.41942,     0.42042,     0.42142,     0.42242,     0.42342,     0.42442,     0.42543,     0.42643,     0.42743,     0.42843,     0.42943,     0.43043,     0.43143,\n",
       "           0.43243,     0.43343,     0.43443,     0.43544,     0.43644,     0.43744,     0.43844,     0.43944,     0.44044,     0.44144,     0.44244,     0.44344,     0.44444,     0.44545,     0.44645,     0.44745,     0.44845,     0.44945,     0.45045,     0.45145,     0.45245,     0.45345,     0.45445,     0.45546,\n",
       "           0.45646,     0.45746,     0.45846,     0.45946,     0.46046,     0.46146,     0.46246,     0.46346,     0.46446,     0.46547,     0.46647,     0.46747,     0.46847,     0.46947,     0.47047,     0.47147,     0.47247,     0.47347,     0.47447,     0.47548,     0.47648,     0.47748,     0.47848,     0.47948,\n",
       "           0.48048,     0.48148,     0.48248,     0.48348,     0.48448,     0.48549,     0.48649,     0.48749,     0.48849,     0.48949,     0.49049,     0.49149,     0.49249,     0.49349,     0.49449,      0.4955,      0.4965,      0.4975,      0.4985,      0.4995,      0.5005,      0.5015,      0.5025,      0.5035,\n",
       "            0.5045,     0.50551,     0.50651,     0.50751,     0.50851,     0.50951,     0.51051,     0.51151,     0.51251,     0.51351,     0.51451,     0.51552,     0.51652,     0.51752,     0.51852,     0.51952,     0.52052,     0.52152,     0.52252,     0.52352,     0.52452,     0.52553,     0.52653,     0.52753,\n",
       "           0.52853,     0.52953,     0.53053,     0.53153,     0.53253,     0.53353,     0.53453,     0.53554,     0.53654,     0.53754,     0.53854,     0.53954,     0.54054,     0.54154,     0.54254,     0.54354,     0.54454,     0.54555,     0.54655,     0.54755,     0.54855,     0.54955,     0.55055,     0.55155,\n",
       "           0.55255,     0.55355,     0.55455,     0.55556,     0.55656,     0.55756,     0.55856,     0.55956,     0.56056,     0.56156,     0.56256,     0.56356,     0.56456,     0.56557,     0.56657,     0.56757,     0.56857,     0.56957,     0.57057,     0.57157,     0.57257,     0.57357,     0.57457,     0.57558,\n",
       "           0.57658,     0.57758,     0.57858,     0.57958,     0.58058,     0.58158,     0.58258,     0.58358,     0.58458,     0.58559,     0.58659,     0.58759,     0.58859,     0.58959,     0.59059,     0.59159,     0.59259,     0.59359,     0.59459,      0.5956,      0.5966,      0.5976,      0.5986,      0.5996,\n",
       "            0.6006,      0.6016,      0.6026,      0.6036,      0.6046,     0.60561,     0.60661,     0.60761,     0.60861,     0.60961,     0.61061,     0.61161,     0.61261,     0.61361,     0.61461,     0.61562,     0.61662,     0.61762,     0.61862,     0.61962,     0.62062,     0.62162,     0.62262,     0.62362,\n",
       "           0.62462,     0.62563,     0.62663,     0.62763,     0.62863,     0.62963,     0.63063,     0.63163,     0.63263,     0.63363,     0.63463,     0.63564,     0.63664,     0.63764,     0.63864,     0.63964,     0.64064,     0.64164,     0.64264,     0.64364,     0.64464,     0.64565,     0.64665,     0.64765,\n",
       "           0.64865,     0.64965,     0.65065,     0.65165,     0.65265,     0.65365,     0.65465,     0.65566,     0.65666,     0.65766,     0.65866,     0.65966,     0.66066,     0.66166,     0.66266,     0.66366,     0.66466,     0.66567,     0.66667,     0.66767,     0.66867,     0.66967,     0.67067,     0.67167,\n",
       "           0.67267,     0.67367,     0.67467,     0.67568,     0.67668,     0.67768,     0.67868,     0.67968,     0.68068,     0.68168,     0.68268,     0.68368,     0.68468,     0.68569,     0.68669,     0.68769,     0.68869,     0.68969,     0.69069,     0.69169,     0.69269,     0.69369,     0.69469,      0.6957,\n",
       "            0.6967,      0.6977,      0.6987,      0.6997,      0.7007,      0.7017,      0.7027,      0.7037,      0.7047,     0.70571,     0.70671,     0.70771,     0.70871,     0.70971,     0.71071,     0.71171,     0.71271,     0.71371,     0.71471,     0.71572,     0.71672,     0.71772,     0.71872,     0.71972,\n",
       "           0.72072,     0.72172,     0.72272,     0.72372,     0.72472,     0.72573,     0.72673,     0.72773,     0.72873,     0.72973,     0.73073,     0.73173,     0.73273,     0.73373,     0.73473,     0.73574,     0.73674,     0.73774,     0.73874,     0.73974,     0.74074,     0.74174,     0.74274,     0.74374,\n",
       "           0.74474,     0.74575,     0.74675,     0.74775,     0.74875,     0.74975,     0.75075,     0.75175,     0.75275,     0.75375,     0.75475,     0.75576,     0.75676,     0.75776,     0.75876,     0.75976,     0.76076,     0.76176,     0.76276,     0.76376,     0.76476,     0.76577,     0.76677,     0.76777,\n",
       "           0.76877,     0.76977,     0.77077,     0.77177,     0.77277,     0.77377,     0.77477,     0.77578,     0.77678,     0.77778,     0.77878,     0.77978,     0.78078,     0.78178,     0.78278,     0.78378,     0.78478,     0.78579,     0.78679,     0.78779,     0.78879,     0.78979,     0.79079,     0.79179,\n",
       "           0.79279,     0.79379,     0.79479,      0.7958,      0.7968,      0.7978,      0.7988,      0.7998,      0.8008,      0.8018,      0.8028,      0.8038,      0.8048,     0.80581,     0.80681,     0.80781,     0.80881,     0.80981,     0.81081,     0.81181,     0.81281,     0.81381,     0.81481,     0.81582,\n",
       "           0.81682,     0.81782,     0.81882,     0.81982,     0.82082,     0.82182,     0.82282,     0.82382,     0.82482,     0.82583,     0.82683,     0.82783,     0.82883,     0.82983,     0.83083,     0.83183,     0.83283,     0.83383,     0.83483,     0.83584,     0.83684,     0.83784,     0.83884,     0.83984,\n",
       "           0.84084,     0.84184,     0.84284,     0.84384,     0.84484,     0.84585,     0.84685,     0.84785,     0.84885,     0.84985,     0.85085,     0.85185,     0.85285,     0.85385,     0.85485,     0.85586,     0.85686,     0.85786,     0.85886,     0.85986,     0.86086,     0.86186,     0.86286,     0.86386,\n",
       "           0.86486,     0.86587,     0.86687,     0.86787,     0.86887,     0.86987,     0.87087,     0.87187,     0.87287,     0.87387,     0.87487,     0.87588,     0.87688,     0.87788,     0.87888,     0.87988,     0.88088,     0.88188,     0.88288,     0.88388,     0.88488,     0.88589,     0.88689,     0.88789,\n",
       "           0.88889,     0.88989,     0.89089,     0.89189,     0.89289,     0.89389,     0.89489,      0.8959,      0.8969,      0.8979,      0.8989,      0.8999,      0.9009,      0.9019,      0.9029,      0.9039,      0.9049,     0.90591,     0.90691,     0.90791,     0.90891,     0.90991,     0.91091,     0.91191,\n",
       "           0.91291,     0.91391,     0.91491,     0.91592,     0.91692,     0.91792,     0.91892,     0.91992,     0.92092,     0.92192,     0.92292,     0.92392,     0.92492,     0.92593,     0.92693,     0.92793,     0.92893,     0.92993,     0.93093,     0.93193,     0.93293,     0.93393,     0.93493,     0.93594,\n",
       "           0.93694,     0.93794,     0.93894,     0.93994,     0.94094,     0.94194,     0.94294,     0.94394,     0.94494,     0.94595,     0.94695,     0.94795,     0.94895,     0.94995,     0.95095,     0.95195,     0.95295,     0.95395,     0.95495,     0.95596,     0.95696,     0.95796,     0.95896,     0.95996,\n",
       "           0.96096,     0.96196,     0.96296,     0.96396,     0.96496,     0.96597,     0.96697,     0.96797,     0.96897,     0.96997,     0.97097,     0.97197,     0.97297,     0.97397,     0.97497,     0.97598,     0.97698,     0.97798,     0.97898,     0.97998,     0.98098,     0.98198,     0.98298,     0.98398,\n",
       "           0.98498,     0.98599,     0.98699,     0.98799,     0.98899,     0.98999,     0.99099,     0.99199,     0.99299,     0.99399,     0.99499,       0.996,       0.997,       0.998,       0.999,           1]), array([[   0.086687,    0.086954,     0.17787,     0.23183,     0.26724,     0.30184,     0.32603,      0.3413,     0.35499,     0.37238,     0.38904,     0.40786,     0.41932,      0.4301,      0.4409,     0.45249,     0.46294,     0.47482,     0.48169,     0.48505,     0.49303,     0.50229,     0.51559,\n",
       "            0.52191,     0.52837,     0.53418,     0.54583,      0.5513,      0.5559,     0.56167,     0.56589,     0.56772,     0.57139,     0.57899,     0.58447,     0.58687,     0.59028,     0.59338,     0.59519,     0.60037,     0.60149,     0.60327,     0.60714,     0.60844,     0.61181,     0.61642,\n",
       "            0.61898,     0.62063,     0.62407,     0.63037,     0.63855,     0.64115,     0.64465,     0.64694,     0.64879,     0.65529,     0.65618,     0.65832,     0.66083,     0.66228,     0.66596,     0.66847,      0.6719,     0.67468,     0.67858,     0.67926,     0.67958,     0.67908,     0.67957,\n",
       "            0.68008,     0.68002,     0.68226,     0.68265,     0.68734,     0.68904,     0.69015,     0.69104,     0.69194,     0.69285,     0.69555,     0.69763,     0.69881,     0.70152,     0.70445,      0.7056,     0.70649,     0.70733,     0.70849,     0.70884,     0.70855,      0.7085,     0.70918,\n",
       "            0.70986,     0.71043,     0.71099,     0.71155,     0.71254,     0.71497,     0.71779,     0.72095,     0.72189,     0.72237,     0.72285,     0.72333,     0.72553,     0.72657,     0.72793,     0.72877,     0.72911,     0.72946,      0.7298,     0.73015,     0.73099,     0.73213,     0.73258,\n",
       "            0.73304,     0.73349,     0.73545,     0.73723,     0.73703,     0.73682,     0.73692,     0.73738,     0.73783,     0.73828,     0.73947,      0.7422,     0.74242,     0.74265,     0.74287,      0.7431,     0.74332,     0.74355,     0.74377,     0.74581,     0.74666,      0.7475,     0.74786,\n",
       "            0.74818,     0.74851,     0.74883,     0.74916,     0.74894,      0.7491,     0.74946,     0.74983,      0.7502,     0.75057,     0.75115,     0.75175,     0.75236,     0.75626,     0.75678,      0.7573,     0.75782,     0.75846,     0.75924,     0.76017,     0.76224,     0.76271,     0.76319,\n",
       "            0.76366,     0.76774,     0.76797,      0.7682,     0.76843,     0.76866,      0.7689,     0.76913,     0.76936,     0.76959,     0.77347,     0.77329,     0.77311,      0.7731,     0.77405,     0.77503,      0.7762,     0.77835,     0.77863,     0.77891,      0.7792,     0.77948,     0.77976,\n",
       "            0.78004,     0.78032,     0.78521,     0.78625,     0.78594,     0.78841,     0.79115,     0.79125,     0.79118,     0.79171,     0.79223,     0.79276,       0.793,     0.79269,     0.79418,     0.79659,      0.7973,     0.79802,     0.79953,     0.80015,     0.80177,     0.80449,     0.80584,\n",
       "             0.8072,     0.80857,     0.80852,     0.80826,     0.81021,     0.80985,     0.80963,     0.80941,      0.8116,      0.8115,     0.81139,     0.81129,     0.81119,     0.81158,     0.81319,     0.81389,     0.81581,      0.8175,     0.81786,     0.81823,     0.81859,     0.81896,     0.81933,\n",
       "            0.81969,     0.81966,     0.81959,     0.81952,     0.81946,     0.81939,     0.81932,     0.81925,     0.81956,     0.82063,     0.82149,     0.82127,     0.82105,     0.82156,     0.82215,     0.82274,     0.82333,     0.82325,     0.82313,     0.82301,     0.82288,      0.8255,     0.82615,\n",
       "            0.82679,     0.82743,     0.82828,     0.82919,     0.82985,     0.83205,     0.83464,      0.8351,     0.83557,     0.83603,      0.8365,      0.8388,     0.83896,     0.83924,     0.83952,      0.8398,     0.84008,     0.84036,     0.84063,     0.84091,      0.8412,     0.84165,     0.84209,\n",
       "            0.84254,     0.84298,     0.84343,     0.84422,     0.84539,     0.84612,     0.84602,     0.84592,     0.84582,     0.84572,     0.85285,     0.85274,     0.85263,     0.85252,     0.85241,     0.85196,     0.85189,     0.85181,     0.85173,     0.85165,     0.85157,     0.85161,     0.85199,\n",
       "            0.85237,     0.85274,     0.85312,      0.8535,     0.85388,     0.85422,     0.85449,     0.85477,     0.85505,     0.85532,      0.8556,     0.85588,     0.85615,     0.85643,     0.85671,     0.85668,     0.85665,     0.85663,      0.8566,     0.85658,     0.85655,     0.85652,      0.8565,\n",
       "            0.85647,     0.85644,     0.85642,     0.85639,     0.85636,     0.85634,     0.85631,     0.85629,     0.85622,     0.85609,     0.85596,     0.85582,     0.85571,      0.8556,     0.85548,     0.85521,     0.85661,     0.85754,     0.85746,     0.85739,     0.85731,     0.85723,     0.85715,\n",
       "            0.85755,       0.858,     0.85845,      0.8589,     0.85935,     0.85979,     0.85972,     0.86031,     0.86089,     0.86148,     0.86206,     0.86189,     0.86281,     0.86372,     0.86462,     0.86549,     0.86637,     0.86736,     0.86892,     0.86996,     0.87026,     0.87056,     0.87086,\n",
       "            0.87116,     0.87146,     0.87176,     0.87206,     0.87236,     0.87235,     0.87215,      0.8721,     0.87205,     0.87199,     0.87194,     0.87189,     0.87183,     0.87097,     0.87093,     0.87088,     0.87084,      0.8708,     0.87076,     0.87072,     0.87068,     0.87063,     0.87059,\n",
       "            0.87055,     0.87051,     0.87046,     0.87042,     0.87037,     0.87033,     0.87028,     0.87024,     0.87019,     0.87015,     0.87011,     0.87008,     0.87005,     0.87002,     0.86999,     0.86996,     0.86993,      0.8699,     0.86987,     0.86984,     0.86981,     0.86977,     0.86974,\n",
       "            0.86971,     0.87141,     0.87253,     0.87248,     0.87243,     0.87239,     0.87234,      0.8723,     0.87225,      0.8722,     0.87216,     0.87209,     0.87201,     0.87192,     0.87183,     0.87175,     0.87165,     0.87155,     0.87144,     0.87134,     0.87099,     0.87053,     0.87575,\n",
       "            0.87734,     0.87862,     0.87914,     0.87903,     0.87892,     0.87882,     0.87976,     0.88107,     0.88226,     0.88331,     0.88437,     0.88467,     0.88454,     0.88442,     0.88425,     0.88404,     0.88386,     0.88369,     0.88349,     0.88321,     0.88607,     0.88585,     0.88639,\n",
       "            0.88693,     0.88746,       0.888,     0.88854,     0.88886,     0.88877,     0.88869,      0.8886,     0.88852,     0.88865,     0.88884,     0.88904,     0.88923,     0.88942,     0.88961,      0.8898,     0.88999,     0.89018,     0.89037,     0.89056,     0.89075,     0.89094,     0.89113,\n",
       "            0.89132,     0.89151,     0.89158,     0.89152,     0.89147,     0.89141,     0.89135,     0.89129,     0.89123,     0.89115,     0.89106,     0.89096,     0.89087,     0.89114,     0.89157,       0.892,     0.89243,     0.89285,     0.89328,     0.89371,     0.89359,     0.89346,     0.89333,\n",
       "            0.89334,     0.89365,     0.89396,     0.89427,     0.89458,      0.8949,     0.89521,     0.89552,     0.89583,     0.89614,     0.89661,     0.89875,     0.89958,     0.89949,     0.89939,     0.89929,     0.89911,     0.89893,     0.89946,     0.89999,     0.90052,     0.90105,     0.90158,\n",
       "            0.90211,     0.90173,     0.90149,     0.90078,     0.90322,      0.9038,     0.90358,     0.90341,     0.90412,     0.90537,     0.90663,     0.90665,     0.90657,      0.9065,     0.90642,     0.90634,     0.90623,     0.90611,     0.90599,     0.90585,      0.9057,     0.90542,     0.90872,\n",
       "            0.90848,     0.90803,     0.90778,     0.90766,      0.9076,     0.90754,     0.90749,     0.90743,     0.90737,     0.90729,     0.90717,     0.90704,     0.90693,     0.90682,     0.90671,     0.90665,     0.90688,     0.90711,     0.90733,     0.90756,     0.90779,     0.90802,     0.90825,\n",
       "            0.90848,      0.9087,     0.90893,     0.90916,     0.90939,     0.90962,     0.90985,     0.91007,     0.91001,     0.90977,     0.90915,     0.90902,     0.90894,     0.90885,     0.90877,     0.90845,     0.90874,     0.90919,     0.90964,     0.91009,     0.91054,     0.91099,     0.91144,\n",
       "            0.91188,     0.91197,     0.91192,     0.91188,     0.91183,     0.91179,     0.91175,      0.9117,     0.91166,     0.91161,     0.91156,     0.91151,     0.91146,     0.91141,     0.91136,     0.91131,     0.91165,     0.91218,      0.9127,     0.91323,     0.91375,     0.91428,      0.9148,\n",
       "             0.9149,     0.91479,     0.91467,     0.91524,     0.91613,     0.91702,     0.91791,     0.91827,     0.91806,     0.91897,     0.92007,     0.92117,      0.9217,     0.92124,     0.92106,     0.92094,     0.92083,     0.92133,     0.92182,     0.92232,     0.92281,     0.92331,      0.9238,\n",
       "             0.9243,     0.92444,     0.92405,     0.92479,     0.92672,     0.92763,     0.92758,     0.92753,     0.92747,     0.92742,     0.92737,     0.92706,     0.92794,     0.92889,     0.92983,     0.93078,     0.93048,     0.93031,     0.93018,     0.93033,     0.93216,     0.93389,     0.93358,\n",
       "             0.9335,     0.93343,     0.93336,     0.93317,     0.93293,     0.93268,      0.9325,     0.93232,     0.93215,     0.93206,     0.93199,     0.93192,     0.93185,     0.93156,     0.93096,     0.93011,     0.92992,     0.92971,     0.92955,     0.92946,     0.92938,     0.92929,     0.92881,\n",
       "            0.92795,     0.93023,     0.93233,     0.93293,     0.93618,     0.93604,     0.93586,     0.93563,     0.93819,     0.93987,     0.93952,      0.9431,     0.94393,     0.94328,     0.94287,     0.94435,     0.94763,     0.94717,     0.94686,     0.94772,     0.94883,     0.94994,     0.95105,\n",
       "            0.95182,     0.95162,     0.95145,     0.95129,     0.95114,     0.95066,     0.95047,     0.95033,     0.95022,     0.95013,     0.95004,     0.94982,     0.95345,     0.95492,     0.96019,     0.95976,     0.95971,     0.95966,     0.95961,     0.95956,     0.95929,     0.95912,       0.959,\n",
       "            0.95891,     0.95881,     0.95865,     0.95838,     0.95808,     0.95803,     0.95797,     0.95792,     0.95787,     0.95883,     0.96238,     0.96334,     0.96277,     0.96262,      0.9625,     0.96202,     0.96186,     0.96153,     0.96115,     0.96066,     0.96043,     0.96009,     0.95987,\n",
       "            0.96087,     0.96736,     0.96999,     0.97263,     0.97258,     0.97237,     0.97218,     0.97207,     0.97178,     0.97139,     0.97094,     0.97081,     0.97547,     0.97774,     0.97767,     0.97759,     0.97748,     0.97742,      0.9774,     0.97737,     0.97734,     0.97731,     0.97728,\n",
       "            0.97714,     0.98433,     0.98424,     0.98411,     0.98404,     0.98382,     0.98365,     0.98357,     0.98351,     0.98345,     0.98567,     0.99131,     0.99114,     0.99105,     0.99094,     0.99081,     0.99076,     0.99063,     0.99058,     0.99055,     0.99052,      0.9905,     0.99045,\n",
       "             0.9903,     0.98979,     0.98973,     0.98968,     0.98964,     0.98959,     0.98954,     0.98949,     0.98945,     0.98941,     0.98938,     0.98926,     0.98908,     0.98902,     0.98848,     0.98836,     0.98831,     0.98826,     0.98794,     0.98787,     0.98781,     0.98755,      0.9873,\n",
       "            0.98722,       0.987,     0.98696,     0.98692,     0.98688,     0.99958,           1,           1,           1,           1,           1,           1,           1,           1,           1,           1,           1,           1,           1,           1,           1,           1,           1,\n",
       "                  1,           1,           1,           1,           1,           1,           1,           1,           1,           1,           1,           1,           1,           1,           1,           1,           1,           1,           1,           1,           1,           1,           1,\n",
       "                  1,           1,           1,           1,           1,           1,           1,           1,           1,           1,           1,           1,           1,           1,           1,           1,           1,           1,           1,           1,           1,           1,           1,\n",
       "                  1,           1,           1,           1,           1,           1,           1,           1,           1,           1,           1,           1,           1,           1,           1,           1,           1,           1,           1,           1,           1,           1,           1,\n",
       "                  1,           1,           1,           1,           1,           1,           1,           1,           1,           1,           1,           1,           1,           1,           1,           1,           1,           1,           1,           1,           1,           1,           1,\n",
       "                  1,           1,           1,           1,           1,           1,           1,           1,           1,           1,           1,           1,           1,           1,           1,           1,           1,           1,           1,           1,           1,           1,           1,\n",
       "                  1,           1,           1,           1,           1,           1,           1,           1,           1,           1,           1,           1,           1,           1,           1,           1,           1,           1,           1,           1,           1,           1,           1,\n",
       "                  1,           1,           1,           1,           1,           1,           1,           1,           1,           1,           1]]), 'Confidence', 'Precision'], [array([          0,    0.001001,    0.002002,    0.003003,    0.004004,    0.005005,    0.006006,    0.007007,    0.008008,    0.009009,     0.01001,    0.011011,    0.012012,    0.013013,    0.014014,    0.015015,    0.016016,    0.017017,    0.018018,    0.019019,     0.02002,    0.021021,    0.022022,    0.023023,\n",
       "          0.024024,    0.025025,    0.026026,    0.027027,    0.028028,    0.029029,     0.03003,    0.031031,    0.032032,    0.033033,    0.034034,    0.035035,    0.036036,    0.037037,    0.038038,    0.039039,     0.04004,    0.041041,    0.042042,    0.043043,    0.044044,    0.045045,    0.046046,    0.047047,\n",
       "          0.048048,    0.049049,     0.05005,    0.051051,    0.052052,    0.053053,    0.054054,    0.055055,    0.056056,    0.057057,    0.058058,    0.059059,     0.06006,    0.061061,    0.062062,    0.063063,    0.064064,    0.065065,    0.066066,    0.067067,    0.068068,    0.069069,     0.07007,    0.071071,\n",
       "          0.072072,    0.073073,    0.074074,    0.075075,    0.076076,    0.077077,    0.078078,    0.079079,     0.08008,    0.081081,    0.082082,    0.083083,    0.084084,    0.085085,    0.086086,    0.087087,    0.088088,    0.089089,     0.09009,    0.091091,    0.092092,    0.093093,    0.094094,    0.095095,\n",
       "          0.096096,    0.097097,    0.098098,    0.099099,      0.1001,      0.1011,      0.1021,      0.1031,      0.1041,     0.10511,     0.10611,     0.10711,     0.10811,     0.10911,     0.11011,     0.11111,     0.11211,     0.11311,     0.11411,     0.11512,     0.11612,     0.11712,     0.11812,     0.11912,\n",
       "           0.12012,     0.12112,     0.12212,     0.12312,     0.12412,     0.12513,     0.12613,     0.12713,     0.12813,     0.12913,     0.13013,     0.13113,     0.13213,     0.13313,     0.13413,     0.13514,     0.13614,     0.13714,     0.13814,     0.13914,     0.14014,     0.14114,     0.14214,     0.14314,\n",
       "           0.14414,     0.14515,     0.14615,     0.14715,     0.14815,     0.14915,     0.15015,     0.15115,     0.15215,     0.15315,     0.15415,     0.15516,     0.15616,     0.15716,     0.15816,     0.15916,     0.16016,     0.16116,     0.16216,     0.16316,     0.16416,     0.16517,     0.16617,     0.16717,\n",
       "           0.16817,     0.16917,     0.17017,     0.17117,     0.17217,     0.17317,     0.17417,     0.17518,     0.17618,     0.17718,     0.17818,     0.17918,     0.18018,     0.18118,     0.18218,     0.18318,     0.18418,     0.18519,     0.18619,     0.18719,     0.18819,     0.18919,     0.19019,     0.19119,\n",
       "           0.19219,     0.19319,     0.19419,      0.1952,      0.1962,      0.1972,      0.1982,      0.1992,      0.2002,      0.2012,      0.2022,      0.2032,      0.2042,     0.20521,     0.20621,     0.20721,     0.20821,     0.20921,     0.21021,     0.21121,     0.21221,     0.21321,     0.21421,     0.21522,\n",
       "           0.21622,     0.21722,     0.21822,     0.21922,     0.22022,     0.22122,     0.22222,     0.22322,     0.22422,     0.22523,     0.22623,     0.22723,     0.22823,     0.22923,     0.23023,     0.23123,     0.23223,     0.23323,     0.23423,     0.23524,     0.23624,     0.23724,     0.23824,     0.23924,\n",
       "           0.24024,     0.24124,     0.24224,     0.24324,     0.24424,     0.24525,     0.24625,     0.24725,     0.24825,     0.24925,     0.25025,     0.25125,     0.25225,     0.25325,     0.25425,     0.25526,     0.25626,     0.25726,     0.25826,     0.25926,     0.26026,     0.26126,     0.26226,     0.26326,\n",
       "           0.26426,     0.26527,     0.26627,     0.26727,     0.26827,     0.26927,     0.27027,     0.27127,     0.27227,     0.27327,     0.27427,     0.27528,     0.27628,     0.27728,     0.27828,     0.27928,     0.28028,     0.28128,     0.28228,     0.28328,     0.28428,     0.28529,     0.28629,     0.28729,\n",
       "           0.28829,     0.28929,     0.29029,     0.29129,     0.29229,     0.29329,     0.29429,      0.2953,      0.2963,      0.2973,      0.2983,      0.2993,      0.3003,      0.3013,      0.3023,      0.3033,      0.3043,     0.30531,     0.30631,     0.30731,     0.30831,     0.30931,     0.31031,     0.31131,\n",
       "           0.31231,     0.31331,     0.31431,     0.31532,     0.31632,     0.31732,     0.31832,     0.31932,     0.32032,     0.32132,     0.32232,     0.32332,     0.32432,     0.32533,     0.32633,     0.32733,     0.32833,     0.32933,     0.33033,     0.33133,     0.33233,     0.33333,     0.33433,     0.33534,\n",
       "           0.33634,     0.33734,     0.33834,     0.33934,     0.34034,     0.34134,     0.34234,     0.34334,     0.34434,     0.34535,     0.34635,     0.34735,     0.34835,     0.34935,     0.35035,     0.35135,     0.35235,     0.35335,     0.35435,     0.35536,     0.35636,     0.35736,     0.35836,     0.35936,\n",
       "           0.36036,     0.36136,     0.36236,     0.36336,     0.36436,     0.36537,     0.36637,     0.36737,     0.36837,     0.36937,     0.37037,     0.37137,     0.37237,     0.37337,     0.37437,     0.37538,     0.37638,     0.37738,     0.37838,     0.37938,     0.38038,     0.38138,     0.38238,     0.38338,\n",
       "           0.38438,     0.38539,     0.38639,     0.38739,     0.38839,     0.38939,     0.39039,     0.39139,     0.39239,     0.39339,     0.39439,      0.3954,      0.3964,      0.3974,      0.3984,      0.3994,      0.4004,      0.4014,      0.4024,      0.4034,      0.4044,     0.40541,     0.40641,     0.40741,\n",
       "           0.40841,     0.40941,     0.41041,     0.41141,     0.41241,     0.41341,     0.41441,     0.41542,     0.41642,     0.41742,     0.41842,     0.41942,     0.42042,     0.42142,     0.42242,     0.42342,     0.42442,     0.42543,     0.42643,     0.42743,     0.42843,     0.42943,     0.43043,     0.43143,\n",
       "           0.43243,     0.43343,     0.43443,     0.43544,     0.43644,     0.43744,     0.43844,     0.43944,     0.44044,     0.44144,     0.44244,     0.44344,     0.44444,     0.44545,     0.44645,     0.44745,     0.44845,     0.44945,     0.45045,     0.45145,     0.45245,     0.45345,     0.45445,     0.45546,\n",
       "           0.45646,     0.45746,     0.45846,     0.45946,     0.46046,     0.46146,     0.46246,     0.46346,     0.46446,     0.46547,     0.46647,     0.46747,     0.46847,     0.46947,     0.47047,     0.47147,     0.47247,     0.47347,     0.47447,     0.47548,     0.47648,     0.47748,     0.47848,     0.47948,\n",
       "           0.48048,     0.48148,     0.48248,     0.48348,     0.48448,     0.48549,     0.48649,     0.48749,     0.48849,     0.48949,     0.49049,     0.49149,     0.49249,     0.49349,     0.49449,      0.4955,      0.4965,      0.4975,      0.4985,      0.4995,      0.5005,      0.5015,      0.5025,      0.5035,\n",
       "            0.5045,     0.50551,     0.50651,     0.50751,     0.50851,     0.50951,     0.51051,     0.51151,     0.51251,     0.51351,     0.51451,     0.51552,     0.51652,     0.51752,     0.51852,     0.51952,     0.52052,     0.52152,     0.52252,     0.52352,     0.52452,     0.52553,     0.52653,     0.52753,\n",
       "           0.52853,     0.52953,     0.53053,     0.53153,     0.53253,     0.53353,     0.53453,     0.53554,     0.53654,     0.53754,     0.53854,     0.53954,     0.54054,     0.54154,     0.54254,     0.54354,     0.54454,     0.54555,     0.54655,     0.54755,     0.54855,     0.54955,     0.55055,     0.55155,\n",
       "           0.55255,     0.55355,     0.55455,     0.55556,     0.55656,     0.55756,     0.55856,     0.55956,     0.56056,     0.56156,     0.56256,     0.56356,     0.56456,     0.56557,     0.56657,     0.56757,     0.56857,     0.56957,     0.57057,     0.57157,     0.57257,     0.57357,     0.57457,     0.57558,\n",
       "           0.57658,     0.57758,     0.57858,     0.57958,     0.58058,     0.58158,     0.58258,     0.58358,     0.58458,     0.58559,     0.58659,     0.58759,     0.58859,     0.58959,     0.59059,     0.59159,     0.59259,     0.59359,     0.59459,      0.5956,      0.5966,      0.5976,      0.5986,      0.5996,\n",
       "            0.6006,      0.6016,      0.6026,      0.6036,      0.6046,     0.60561,     0.60661,     0.60761,     0.60861,     0.60961,     0.61061,     0.61161,     0.61261,     0.61361,     0.61461,     0.61562,     0.61662,     0.61762,     0.61862,     0.61962,     0.62062,     0.62162,     0.62262,     0.62362,\n",
       "           0.62462,     0.62563,     0.62663,     0.62763,     0.62863,     0.62963,     0.63063,     0.63163,     0.63263,     0.63363,     0.63463,     0.63564,     0.63664,     0.63764,     0.63864,     0.63964,     0.64064,     0.64164,     0.64264,     0.64364,     0.64464,     0.64565,     0.64665,     0.64765,\n",
       "           0.64865,     0.64965,     0.65065,     0.65165,     0.65265,     0.65365,     0.65465,     0.65566,     0.65666,     0.65766,     0.65866,     0.65966,     0.66066,     0.66166,     0.66266,     0.66366,     0.66466,     0.66567,     0.66667,     0.66767,     0.66867,     0.66967,     0.67067,     0.67167,\n",
       "           0.67267,     0.67367,     0.67467,     0.67568,     0.67668,     0.67768,     0.67868,     0.67968,     0.68068,     0.68168,     0.68268,     0.68368,     0.68468,     0.68569,     0.68669,     0.68769,     0.68869,     0.68969,     0.69069,     0.69169,     0.69269,     0.69369,     0.69469,      0.6957,\n",
       "            0.6967,      0.6977,      0.6987,      0.6997,      0.7007,      0.7017,      0.7027,      0.7037,      0.7047,     0.70571,     0.70671,     0.70771,     0.70871,     0.70971,     0.71071,     0.71171,     0.71271,     0.71371,     0.71471,     0.71572,     0.71672,     0.71772,     0.71872,     0.71972,\n",
       "           0.72072,     0.72172,     0.72272,     0.72372,     0.72472,     0.72573,     0.72673,     0.72773,     0.72873,     0.72973,     0.73073,     0.73173,     0.73273,     0.73373,     0.73473,     0.73574,     0.73674,     0.73774,     0.73874,     0.73974,     0.74074,     0.74174,     0.74274,     0.74374,\n",
       "           0.74474,     0.74575,     0.74675,     0.74775,     0.74875,     0.74975,     0.75075,     0.75175,     0.75275,     0.75375,     0.75475,     0.75576,     0.75676,     0.75776,     0.75876,     0.75976,     0.76076,     0.76176,     0.76276,     0.76376,     0.76476,     0.76577,     0.76677,     0.76777,\n",
       "           0.76877,     0.76977,     0.77077,     0.77177,     0.77277,     0.77377,     0.77477,     0.77578,     0.77678,     0.77778,     0.77878,     0.77978,     0.78078,     0.78178,     0.78278,     0.78378,     0.78478,     0.78579,     0.78679,     0.78779,     0.78879,     0.78979,     0.79079,     0.79179,\n",
       "           0.79279,     0.79379,     0.79479,      0.7958,      0.7968,      0.7978,      0.7988,      0.7998,      0.8008,      0.8018,      0.8028,      0.8038,      0.8048,     0.80581,     0.80681,     0.80781,     0.80881,     0.80981,     0.81081,     0.81181,     0.81281,     0.81381,     0.81481,     0.81582,\n",
       "           0.81682,     0.81782,     0.81882,     0.81982,     0.82082,     0.82182,     0.82282,     0.82382,     0.82482,     0.82583,     0.82683,     0.82783,     0.82883,     0.82983,     0.83083,     0.83183,     0.83283,     0.83383,     0.83483,     0.83584,     0.83684,     0.83784,     0.83884,     0.83984,\n",
       "           0.84084,     0.84184,     0.84284,     0.84384,     0.84484,     0.84585,     0.84685,     0.84785,     0.84885,     0.84985,     0.85085,     0.85185,     0.85285,     0.85385,     0.85485,     0.85586,     0.85686,     0.85786,     0.85886,     0.85986,     0.86086,     0.86186,     0.86286,     0.86386,\n",
       "           0.86486,     0.86587,     0.86687,     0.86787,     0.86887,     0.86987,     0.87087,     0.87187,     0.87287,     0.87387,     0.87487,     0.87588,     0.87688,     0.87788,     0.87888,     0.87988,     0.88088,     0.88188,     0.88288,     0.88388,     0.88488,     0.88589,     0.88689,     0.88789,\n",
       "           0.88889,     0.88989,     0.89089,     0.89189,     0.89289,     0.89389,     0.89489,      0.8959,      0.8969,      0.8979,      0.8989,      0.8999,      0.9009,      0.9019,      0.9029,      0.9039,      0.9049,     0.90591,     0.90691,     0.90791,     0.90891,     0.90991,     0.91091,     0.91191,\n",
       "           0.91291,     0.91391,     0.91491,     0.91592,     0.91692,     0.91792,     0.91892,     0.91992,     0.92092,     0.92192,     0.92292,     0.92392,     0.92492,     0.92593,     0.92693,     0.92793,     0.92893,     0.92993,     0.93093,     0.93193,     0.93293,     0.93393,     0.93493,     0.93594,\n",
       "           0.93694,     0.93794,     0.93894,     0.93994,     0.94094,     0.94194,     0.94294,     0.94394,     0.94494,     0.94595,     0.94695,     0.94795,     0.94895,     0.94995,     0.95095,     0.95195,     0.95295,     0.95395,     0.95495,     0.95596,     0.95696,     0.95796,     0.95896,     0.95996,\n",
       "           0.96096,     0.96196,     0.96296,     0.96396,     0.96496,     0.96597,     0.96697,     0.96797,     0.96897,     0.96997,     0.97097,     0.97197,     0.97297,     0.97397,     0.97497,     0.97598,     0.97698,     0.97798,     0.97898,     0.97998,     0.98098,     0.98198,     0.98298,     0.98398,\n",
       "           0.98498,     0.98599,     0.98699,     0.98799,     0.98899,     0.98999,     0.99099,     0.99199,     0.99299,     0.99399,     0.99499,       0.996,       0.997,       0.998,       0.999,           1]), array([[     0.9458,      0.9458,     0.93225,     0.92954,     0.91599,     0.91328,     0.91057,     0.89973,     0.89431,     0.89431,      0.8916,     0.88618,     0.88347,     0.88347,     0.88347,     0.88347,     0.88347,     0.88347,     0.88347,     0.88076,     0.88076,     0.88076,     0.87805,\n",
       "            0.87805,     0.87805,     0.87534,     0.87534,     0.87263,     0.87263,     0.86992,     0.86992,     0.86992,     0.86721,     0.86721,     0.86179,     0.86179,     0.86179,     0.86179,     0.85908,     0.85905,     0.85637,     0.85637,     0.85637,     0.85637,     0.85637,     0.85637,\n",
       "            0.85637,     0.85366,     0.85366,     0.85366,     0.85366,     0.85366,     0.85366,     0.85366,     0.85366,     0.85366,     0.85366,     0.85366,     0.85366,     0.85366,     0.85366,     0.85241,     0.84824,     0.84553,     0.84553,     0.84553,     0.84493,     0.84297,     0.83913,\n",
       "             0.8374,     0.83469,     0.83469,     0.83198,     0.83198,     0.83198,     0.83198,     0.83198,     0.83198,     0.83198,     0.83198,     0.83198,     0.83198,     0.83198,     0.83198,     0.83198,     0.83198,     0.83198,     0.83198,     0.83132,     0.83015,     0.82927,     0.82927,\n",
       "            0.82927,     0.82927,     0.82927,     0.82927,     0.82927,     0.82927,     0.82927,     0.82927,     0.82927,     0.82927,     0.82927,     0.82927,     0.82927,     0.82927,     0.82927,     0.82927,     0.82927,     0.82927,     0.82927,     0.82927,     0.82927,     0.82927,     0.82927,\n",
       "            0.82927,     0.82927,     0.82927,     0.82875,     0.82789,     0.82702,     0.82656,     0.82656,     0.82656,     0.82656,     0.82656,     0.82656,     0.82656,     0.82656,     0.82656,     0.82656,     0.82656,     0.82656,     0.82656,     0.82656,     0.82656,     0.82656,     0.82656,\n",
       "            0.82656,     0.82656,     0.82656,     0.82656,      0.8246,     0.82385,     0.82385,     0.82385,     0.82385,     0.82385,     0.82385,     0.82385,     0.82385,     0.82385,     0.82385,     0.82385,     0.82385,     0.82385,     0.82385,     0.82385,     0.82385,     0.82385,     0.82385,\n",
       "            0.82385,     0.82385,     0.82385,     0.82385,     0.82385,     0.82385,     0.82385,     0.82385,     0.82385,     0.82385,     0.82355,      0.8227,     0.82186,     0.82114,     0.82114,     0.82114,     0.82114,     0.81843,     0.81843,     0.81843,     0.81843,     0.81843,     0.81843,\n",
       "            0.81843,     0.81843,     0.81843,     0.81742,     0.81591,     0.81301,     0.81301,     0.81149,      0.8103,      0.8103,      0.8103,      0.8103,     0.80978,     0.80827,     0.80516,     0.80488,     0.80488,     0.80488,     0.80488,      0.8029,     0.80217,     0.80217,     0.80217,\n",
       "            0.80217,     0.80217,     0.80101,     0.79968,     0.79826,     0.79638,     0.79525,     0.79412,     0.79387,     0.79333,     0.79279,     0.79225,     0.79171,     0.79133,     0.79133,     0.78862,     0.78862,     0.78862,     0.78862,     0.78862,     0.78862,     0.78862,     0.78862,\n",
       "            0.78862,     0.78829,     0.78793,     0.78757,     0.78722,     0.78686,      0.7865,     0.78615,     0.78591,     0.78591,     0.78571,     0.78452,     0.78332,      0.7832,      0.7832,      0.7832,      0.7832,     0.78258,     0.78193,     0.78128,     0.78064,     0.78049,     0.78049,\n",
       "            0.78049,     0.78049,     0.78049,     0.78049,     0.77982,     0.77778,     0.77778,     0.77778,     0.77778,     0.77778,     0.77778,     0.77557,     0.77507,     0.77507,     0.77507,     0.77507,     0.77507,     0.77507,     0.77507,     0.77507,     0.77507,     0.77507,     0.77507,\n",
       "            0.77507,     0.77507,     0.77507,     0.77507,     0.77507,     0.77486,     0.77427,     0.77368,     0.77309,     0.77249,     0.76962,     0.76896,     0.76829,     0.76762,     0.76696,     0.76423,     0.76376,     0.76328,     0.76281,     0.76234,     0.76187,     0.76152,     0.76152,\n",
       "            0.76152,     0.76152,     0.76152,     0.76152,     0.76152,     0.76152,     0.76152,     0.76152,     0.76152,     0.76152,     0.76152,     0.76152,     0.76152,     0.76152,     0.76152,     0.76135,     0.76119,     0.76103,     0.76087,      0.7607,     0.76054,     0.76038,     0.76021,\n",
       "            0.76005,     0.75989,     0.75972,     0.75956,      0.7594,     0.75924,     0.75907,     0.75891,      0.7585,     0.75769,     0.75688,     0.75607,     0.75538,     0.75468,     0.75399,     0.75231,     0.75068,     0.75042,     0.74994,     0.74946,     0.74897,     0.74849,     0.74801,\n",
       "            0.74797,     0.74797,     0.74797,     0.74797,     0.74797,     0.74797,     0.74526,     0.74526,     0.74526,     0.74526,     0.74526,     0.74255,     0.74255,     0.74255,     0.74255,     0.74255,     0.74255,     0.74255,     0.74255,     0.74255,     0.74255,     0.74255,     0.74255,\n",
       "            0.74255,     0.74255,     0.74255,     0.74255,     0.74255,     0.74078,     0.73951,     0.73915,      0.7388,     0.73844,     0.73808,     0.73773,     0.73737,     0.73171,     0.73143,     0.73116,     0.73089,     0.73062,     0.73035,     0.73008,     0.72981,     0.72954,     0.72927,\n",
       "              0.729,     0.72871,     0.72842,     0.72813,     0.72785,     0.72756,     0.72727,     0.72699,      0.7267,     0.72641,     0.72618,     0.72598,     0.72578,     0.72559,     0.72539,     0.72519,       0.725,      0.7248,      0.7246,     0.72441,     0.72421,     0.72401,     0.72382,\n",
       "            0.72362,     0.72358,     0.72343,     0.72314,     0.72284,     0.72254,     0.72224,     0.72194,     0.72164,     0.72134,     0.72104,     0.72062,     0.72007,     0.71951,     0.71895,     0.71839,     0.71777,     0.71711,     0.71646,      0.7158,     0.71353,     0.71065,     0.71003,\n",
       "            0.71003,     0.71003,     0.70964,     0.70893,     0.70821,      0.7075,     0.70732,     0.70732,     0.70732,     0.70732,     0.70732,     0.70676,      0.7059,     0.70503,     0.70389,     0.70246,      0.7012,     0.70004,     0.69868,      0.6968,     0.69552,     0.69377,     0.69377,\n",
       "            0.69377,     0.69377,     0.69377,     0.69377,     0.69356,     0.69296,     0.69237,     0.69177,     0.69117,     0.69106,     0.69106,     0.69106,     0.69106,     0.69106,     0.69106,     0.69106,     0.69106,     0.69106,     0.69106,     0.69106,     0.69106,     0.69106,     0.69106,\n",
       "            0.69106,     0.69106,     0.69086,     0.69045,     0.69004,     0.68963,     0.68922,     0.68881,      0.6884,     0.68778,     0.68713,     0.68648,     0.68583,     0.68564,     0.68564,     0.68564,     0.68564,     0.68564,     0.68564,     0.68564,     0.68271,     0.68179,     0.68086,\n",
       "            0.68022,     0.68022,     0.68022,     0.68022,     0.68022,     0.68022,     0.68022,     0.68022,     0.68022,     0.68022,     0.68022,     0.68022,     0.67979,     0.67906,     0.67833,     0.67761,     0.67623,      0.6748,      0.6748,      0.6748,      0.6748,      0.6748,      0.6748,\n",
       "             0.6748,     0.67145,     0.66958,     0.66427,     0.66396,     0.66195,     0.66028,     0.65902,     0.65854,     0.65854,     0.65854,       0.658,     0.65742,     0.65684,     0.65626,     0.65561,     0.65474,     0.65387,     0.65296,     0.65182,     0.65068,     0.64857,     0.64748,\n",
       "            0.64566,     0.64215,     0.64027,      0.6393,     0.63886,     0.63843,     0.63799,     0.63756,     0.63712,     0.63649,     0.63557,     0.63465,     0.63377,     0.63295,     0.63213,     0.63144,     0.63144,     0.63144,     0.63144,     0.63144,     0.63144,     0.63144,     0.63144,\n",
       "            0.63144,     0.63144,     0.63144,     0.63144,     0.63144,     0.63144,     0.63144,     0.63144,     0.63035,     0.62845,     0.62375,     0.62276,     0.62214,     0.62152,      0.6209,     0.61853,     0.61789,     0.61789,     0.61789,     0.61789,     0.61789,     0.61789,     0.61789,\n",
       "            0.61789,     0.61763,     0.61729,     0.61695,     0.61661,     0.61627,     0.61593,     0.61559,     0.61525,     0.61488,      0.6145,     0.61411,     0.61373,     0.61335,     0.61297,     0.61258,     0.61247,     0.61247,     0.61247,     0.61247,     0.61247,     0.61247,     0.61247,\n",
       "            0.61187,     0.61096,     0.61005,     0.60976,     0.60976,     0.60976,     0.60976,     0.60895,     0.60729,     0.60705,     0.60705,     0.60705,     0.60614,      0.6023,     0.60075,     0.59984,     0.59892,     0.59892,     0.59892,     0.59892,     0.59892,     0.59892,     0.59892,\n",
       "            0.59892,     0.59679,     0.59353,     0.59079,     0.59079,     0.59055,     0.59009,     0.58962,     0.58916,     0.58869,     0.58823,     0.58556,     0.58537,     0.58537,     0.58537,     0.58537,     0.58034,     0.57883,     0.57763,     0.57453,     0.57453,     0.57425,     0.57136,\n",
       "            0.57068,        0.57,     0.56932,     0.56766,     0.56542,     0.56321,     0.56156,        0.56,     0.55849,     0.55772,     0.55708,     0.55645,     0.55581,     0.55333,     0.54813,     0.54102,     0.53937,     0.53768,     0.53634,     0.53565,     0.53496,     0.53427,     0.53033,\n",
       "            0.52304,     0.52304,     0.52272,     0.51762,     0.51683,      0.5156,     0.51408,      0.5121,     0.50949,      0.5083,     0.50407,     0.50407,     0.50187,     0.49576,     0.49199,     0.49051,     0.49039,      0.4859,     0.48283,     0.48238,     0.48238,     0.48238,     0.48238,\n",
       "            0.48186,     0.47978,     0.47799,     0.47633,     0.47484,     0.46991,       0.468,     0.46664,     0.46557,     0.46468,     0.46379,     0.46171,      0.4607,     0.45922,     0.45758,      0.4525,      0.4519,     0.45131,     0.45071,     0.45011,     0.44706,     0.44503,      0.4437,\n",
       "            0.44266,     0.44154,     0.43978,      0.4368,     0.43357,       0.433,     0.43244,     0.43187,      0.4313,     0.43089,     0.43089,      0.4273,     0.42044,     0.41875,     0.41736,     0.41187,     0.41009,     0.40639,     0.40224,     0.39702,     0.39465,     0.39111,      0.3889,\n",
       "            0.38753,     0.38753,     0.38753,     0.38753,     0.38447,     0.38148,     0.37877,     0.37729,     0.37335,     0.36807,     0.36216,     0.36047,     0.36043,     0.35715,     0.35597,     0.35468,     0.35293,     0.35201,     0.35154,     0.35108,     0.35062,     0.35016,      0.3497,\n",
       "             0.3475,     0.34045,     0.33843,     0.33577,     0.33414,     0.32952,      0.3261,     0.32447,     0.32337,     0.32199,     0.31978,     0.30924,     0.30331,     0.29999,     0.29645,      0.2921,     0.29047,     0.28637,      0.2851,     0.28408,     0.28326,     0.28244,     0.28121,\n",
       "            0.27658,     0.26277,     0.26119,      0.2598,     0.25876,     0.25772,     0.25642,     0.25503,     0.25409,     0.25328,     0.25246,     0.24961,     0.24536,     0.24402,     0.23251,      0.2301,     0.22912,     0.22814,     0.22193,     0.22076,     0.21959,     0.21492,     0.21061,\n",
       "            0.20937,     0.20577,     0.20513,     0.20449,     0.20384,     0.20325,      0.2012,     0.19759,     0.19553,     0.19358,     0.18325,     0.17635,     0.17556,     0.17493,     0.17431,     0.17368,     0.16888,      0.1567,     0.15042,     0.14504,     0.14242,     0.14035,     0.13804,\n",
       "            0.13697,      0.1359,     0.13428,     0.13229,     0.13019,      0.1264,     0.12202,     0.12052,     0.11896,     0.11658,     0.11448,     0.11148,     0.10518,     0.10332,     0.09666,    0.090401,    0.088073,    0.086547,    0.085445,    0.084344,    0.083405,    0.082536,    0.081667,\n",
       "           0.080818,    0.079984,     0.07915,    0.074372,    0.071361,    0.069527,    0.067556,    0.063024,    0.061162,    0.059618,    0.058175,    0.056282,    0.052826,    0.050944,    0.049667,    0.043225,    0.041569,    0.039307,    0.036416,    0.033098,    0.031629,    0.030573,    0.029309,\n",
       "           0.027503,    0.024199,    0.022903,    0.021644,    0.021003,    0.020363,    0.019722,    0.019081,    0.016391,    0.015941,    0.015608,    0.015275,    0.014942,    0.014609,    0.014275,    0.013942,    0.013609,    0.012582,    0.011405,   0.0095122,   0.0078561,    0.007259,   0.0066619,\n",
       "          0.0060648,   0.0054677,   0.0051823,    0.004924,   0.0046656,   0.0044073,   0.0041489,   0.0038906,   0.0036323,   0.0033739,   0.0031156,   0.0028572,           0,           0,           0,           0,           0,           0,           0,           0,           0,           0,           0,\n",
       "                  0,           0,           0,           0,           0,           0,           0,           0,           0,           0,           0,           0,           0,           0,           0,           0,           0,           0,           0,           0,           0,           0,           0,\n",
       "                  0,           0,           0,           0,           0,           0,           0,           0,           0,           0,           0,           0,           0,           0,           0,           0,           0,           0,           0,           0,           0,           0,           0,\n",
       "                  0,           0,           0,           0,           0,           0,           0,           0,           0,           0,           0]]), 'Confidence', 'Recall']]\n",
       "fitness: 0.5365591441322599\n",
       "keys: ['metrics/precision(B)', 'metrics/recall(B)', 'metrics/mAP50(B)', 'metrics/mAP50-95(B)']\n",
       "maps: array([    0.50304])\n",
       "names: {0: 'drone'}\n",
       "plot: True\n",
       "results_dict: {'metrics/precision(B)': 0.8461196260568516, 'metrics/recall(B)': 0.7748646094242101, 'metrics/mAP50(B)': 0.8382123823985902, 'metrics/mAP50-95(B)': 0.5030421176582233, 'fitness': 0.5365591441322599}\n",
       "save_dir: WindowsPath('runs/detect/drone_detection2')\n",
       "speed: {'preprocess': 1.9536925324101957, 'inference': 71.19066021284384, 'loss': 0.0, 'postprocess': 0.38370206651495237}\n",
       "task: 'detect'"
      ]
     },
     "execution_count": 3,
     "metadata": {},
     "output_type": "execute_result"
    }
   ],
   "source": [
    "from ultralytics import YOLO\n",
    "\n",
    "# Load a pre-trained YOLOv8 model\n",
    "model = YOLO('yolov8n.pt')  # yolov8n is the nano model, suitable for fast inference\n",
    "\n",
    "# Train the model on your custom drone dataset\n",
    "model.train(data='data.yaml', epochs=10, imgsz=640, batch=16, name='drone_detection')"
   ]
  },
  {
   "cell_type": "code",
   "execution_count": 7,
   "metadata": {},
   "outputs": [
    {
     "name": "stdout",
     "output_type": "stream",
     "text": [
      "\n",
      "image 1/1 c:\\Users\\adith\\Downloads\\drone_dataset\\valid\\images\\0267.jpg: 320x640 1 drone, 98.6ms\n",
      "Speed: 2.2ms preprocess, 98.6ms inference, 1.0ms postprocess per image at shape (1, 3, 320, 640)\n",
      "Results saved to \u001b[1mruns\\detect\\drone_detection24\u001b[0m\n"
     ]
    }
   ],
   "source": [
    "# Inference on a new image\n",
    "results = model.predict(source='valid/images/0267.jpg', save=True, conf=0.5)"
   ]
  },
  {
   "cell_type": "code",
   "execution_count": 8,
   "metadata": {},
   "outputs": [
    {
     "data": {
      "text/plain": [
       "[ultralytics.engine.results.Results object with attributes:\n",
       " \n",
       " boxes: ultralytics.engine.results.Boxes object\n",
       " keypoints: None\n",
       " masks: None\n",
       " names: {0: 'drone'}\n",
       " obb: None\n",
       " orig_img: array([[[198, 161, 133],\n",
       "         [197, 160, 132],\n",
       "         [196, 162, 133],\n",
       "         ...,\n",
       "         [245, 236, 226],\n",
       "         [246, 237, 227],\n",
       "         [246, 237, 227]],\n",
       " \n",
       "        [[195, 161, 132],\n",
       "         [194, 160, 131],\n",
       "         [195, 161, 132],\n",
       "         ...,\n",
       "         [245, 236, 226],\n",
       "         [245, 236, 226],\n",
       "         [246, 237, 227]],\n",
       " \n",
       "        [[193, 161, 132],\n",
       "         [194, 160, 131],\n",
       "         [195, 161, 132],\n",
       "         ...,\n",
       "         [245, 236, 226],\n",
       "         [245, 236, 226],\n",
       "         [246, 237, 227]],\n",
       " \n",
       "        ...,\n",
       " \n",
       "        [[133, 155, 173],\n",
       "         [131, 152, 173],\n",
       "         [130, 151, 172],\n",
       "         ...,\n",
       "         [ 73,  72,  82],\n",
       "         [ 65,  62,  64],\n",
       "         [ 63,  60,  62]],\n",
       " \n",
       "        [[127, 149, 167],\n",
       "         [125, 146, 167],\n",
       "         [126, 150, 168],\n",
       "         ...,\n",
       "         [ 60,  59,  63],\n",
       "         [ 60,  57,  59],\n",
       "         [ 61,  56,  57]],\n",
       " \n",
       "        [[122, 143, 164],\n",
       "         [120, 141, 163],\n",
       "         [119, 137, 160],\n",
       "         ...,\n",
       "         [ 58,  56,  55],\n",
       "         [ 57,  55,  55],\n",
       "         [ 56,  54,  54]]], dtype=uint8)\n",
       " orig_shape: (460, 960)\n",
       " path: 'c:\\\\Users\\\\adith\\\\Downloads\\\\drone_dataset\\\\valid\\\\images\\\\0267.jpg'\n",
       " probs: None\n",
       " save_dir: 'runs\\\\detect\\\\drone_detection24'\n",
       " speed: {'preprocess': 2.1522045135498047, 'inference': 98.63638877868652, 'postprocess': 0.9913444519042969}]"
      ]
     },
     "execution_count": 8,
     "metadata": {},
     "output_type": "execute_result"
    }
   ],
   "source": [
    "results"
   ]
  },
  {
   "cell_type": "code",
   "execution_count": 9,
   "metadata": {},
   "outputs": [
    {
     "name": "stdout",
     "output_type": "stream",
     "text": [
      "\n",
      "image 1/1 c:\\Users\\adith\\Downloads\\drone_dataset\\testimage2.jpeg: 448x640 1 drone, 119.7ms\n",
      "Speed: 3.0ms preprocess, 119.7ms inference, 2.0ms postprocess per image at shape (1, 3, 448, 640)\n",
      "Results saved to \u001b[1mruns\\detect\\drone_detection25\u001b[0m\n"
     ]
    }
   ],
   "source": [
    "result2 = model.predict(source='testimage2.jpeg', save=True, conf=0.5)"
   ]
  },
  {
   "cell_type": "code",
   "execution_count": 11,
   "metadata": {},
   "outputs": [
    {
     "data": {
      "text/plain": [
       "[ultralytics.engine.results.Results object with attributes:\n",
       " \n",
       " boxes: ultralytics.engine.results.Boxes object\n",
       " keypoints: None\n",
       " masks: None\n",
       " names: {0: 'drone'}\n",
       " obb: None\n",
       " orig_img: array([[[191, 184, 181],\n",
       "         [191, 184, 181],\n",
       "         [191, 184, 181],\n",
       "         ...,\n",
       "         [191, 184, 181],\n",
       "         [191, 184, 181],\n",
       "         [191, 184, 181]],\n",
       " \n",
       "        [[191, 184, 181],\n",
       "         [191, 184, 181],\n",
       "         [191, 184, 181],\n",
       "         ...,\n",
       "         [191, 184, 181],\n",
       "         [191, 184, 181],\n",
       "         [191, 184, 181]],\n",
       " \n",
       "        [[191, 184, 181],\n",
       "         [191, 184, 181],\n",
       "         [191, 184, 181],\n",
       "         ...,\n",
       "         [191, 184, 181],\n",
       "         [191, 184, 181],\n",
       "         [191, 184, 181]],\n",
       " \n",
       "        ...,\n",
       " \n",
       "        [[193, 186, 183],\n",
       "         [192, 185, 182],\n",
       "         [192, 185, 182],\n",
       "         ...,\n",
       "         [192, 185, 182],\n",
       "         [193, 186, 183],\n",
       "         [193, 186, 183]],\n",
       " \n",
       "        [[193, 186, 183],\n",
       "         [193, 186, 183],\n",
       "         [193, 186, 183],\n",
       "         ...,\n",
       "         [192, 185, 182],\n",
       "         [193, 186, 183],\n",
       "         [193, 186, 183]],\n",
       " \n",
       "        [[193, 186, 183],\n",
       "         [193, 186, 183],\n",
       "         [193, 186, 183],\n",
       "         ...,\n",
       "         [192, 185, 182],\n",
       "         [193, 186, 183],\n",
       "         [193, 186, 183]]], dtype=uint8)\n",
       " orig_shape: (183, 275)\n",
       " path: 'c:\\\\Users\\\\adith\\\\Downloads\\\\drone_dataset\\\\testimage2.jpeg'\n",
       " probs: None\n",
       " save_dir: 'runs\\\\detect\\\\drone_detection25'\n",
       " speed: {'preprocess': 2.9952526092529297, 'inference': 119.6894645690918, 'postprocess': 1.996755599975586}]"
      ]
     },
     "execution_count": 11,
     "metadata": {},
     "output_type": "execute_result"
    }
   ],
   "source": [
    "result2"
   ]
  },
  {
   "cell_type": "code",
   "execution_count": 12,
   "metadata": {},
   "outputs": [
    {
     "name": "stdout",
     "output_type": "stream",
     "text": [
      "\n",
      "image 1/1 c:\\Users\\adith\\Downloads\\drone_dataset\\testimage1.jpeg: 448x640 1 drone, 97.9ms\n",
      "Speed: 3.3ms preprocess, 97.9ms inference, 1.0ms postprocess per image at shape (1, 3, 448, 640)\n",
      "Results saved to \u001b[1mruns\\detect\\drone_detection26\u001b[0m\n"
     ]
    }
   ],
   "source": [
    "result3 = model.predict(source='testimage1.jpeg', save=True, conf=0.5)"
   ]
  },
  {
   "cell_type": "code",
   "execution_count": 13,
   "metadata": {},
   "outputs": [
    {
     "data": {
      "text/plain": [
       "[ultralytics.engine.results.Results object with attributes:\n",
       " \n",
       " boxes: ultralytics.engine.results.Boxes object\n",
       " keypoints: None\n",
       " masks: None\n",
       " names: {0: 'drone'}\n",
       " obb: None\n",
       " orig_img: array([[[128, 132, 121],\n",
       "         [129, 133, 122],\n",
       "         [131, 135, 124],\n",
       "         ...,\n",
       "         [108, 118, 142],\n",
       "         [108, 119, 141],\n",
       "         [108, 119, 141]],\n",
       " \n",
       "        [[132, 137, 128],\n",
       "         [134, 139, 130],\n",
       "         [136, 141, 132],\n",
       "         ...,\n",
       "         [109, 119, 143],\n",
       "         [109, 120, 142],\n",
       "         [109, 120, 142]],\n",
       " \n",
       "        [[133, 140, 137],\n",
       "         [134, 141, 138],\n",
       "         [137, 144, 141],\n",
       "         ...,\n",
       "         [111, 121, 145],\n",
       "         [111, 121, 145],\n",
       "         [110, 120, 144]],\n",
       " \n",
       "        ...,\n",
       " \n",
       "        [[  0,  37,  69],\n",
       "         [  0,  38,  70],\n",
       "         [  0,  41,  73],\n",
       "         ...,\n",
       "         [  7,  16,  30],\n",
       "         [  7,  16,  30],\n",
       "         [  7,  16,  30]],\n",
       " \n",
       "        [[  0,  38,  70],\n",
       "         [  0,  39,  71],\n",
       "         [  0,  41,  73],\n",
       "         ...,\n",
       "         [  7,  16,  30],\n",
       "         [  7,  16,  30],\n",
       "         [  7,  16,  30]],\n",
       " \n",
       "        [[  0,  40,  72],\n",
       "         [  0,  41,  73],\n",
       "         [  2,  43,  75],\n",
       "         ...,\n",
       "         [  8,  17,  31],\n",
       "         [  8,  17,  31],\n",
       "         [  8,  17,  31]]], dtype=uint8)\n",
       " orig_shape: (183, 275)\n",
       " path: 'c:\\\\Users\\\\adith\\\\Downloads\\\\drone_dataset\\\\testimage1.jpeg'\n",
       " probs: None\n",
       " save_dir: 'runs\\\\detect\\\\drone_detection26'\n",
       " speed: {'preprocess': 3.345489501953125, 'inference': 97.92804718017578, 'postprocess': 0.9987354278564453}]"
      ]
     },
     "execution_count": 13,
     "metadata": {},
     "output_type": "execute_result"
    }
   ],
   "source": [
    "result3"
   ]
  },
  {
   "cell_type": "code",
   "execution_count": 2,
   "metadata": {},
   "outputs": [
    {
     "ename": "NameError",
     "evalue": "name 'model' is not defined",
     "output_type": "error",
     "traceback": [
      "\u001b[1;31m---------------------------------------------------------------------------\u001b[0m",
      "\u001b[1;31mNameError\u001b[0m                                 Traceback (most recent call last)",
      "Cell \u001b[1;32mIn[2], line 1\u001b[0m\n\u001b[1;32m----> 1\u001b[0m result4 \u001b[38;5;241m=\u001b[39m \u001b[43mmodel\u001b[49m\u001b[38;5;241m.\u001b[39mpredict(source\u001b[38;5;241m=\u001b[39m\u001b[38;5;124m'\u001b[39m\u001b[38;5;124mtestimage3.jpeg\u001b[39m\u001b[38;5;124m'\u001b[39m, save\u001b[38;5;241m=\u001b[39m\u001b[38;5;28;01mTrue\u001b[39;00m, conf\u001b[38;5;241m=\u001b[39m\u001b[38;5;241m0.5\u001b[39m)\n",
      "\u001b[1;31mNameError\u001b[0m: name 'model' is not defined"
     ]
    }
   ],
   "source": [
    "result4 = model.predict(source='testimage3.jpeg', save=True, conf=0.5)"
   ]
  },
  {
   "cell_type": "code",
   "execution_count": 15,
   "metadata": {},
   "outputs": [
    {
     "data": {
      "text/plain": [
       "[ultralytics.engine.results.Results object with attributes:\n",
       " \n",
       " boxes: ultralytics.engine.results.Boxes object\n",
       " keypoints: None\n",
       " masks: None\n",
       " names: {0: 'drone'}\n",
       " obb: None\n",
       " orig_img: array([[[  2,  75, 183],\n",
       "         [  2,  75, 183],\n",
       "         [  2,  75, 183],\n",
       "         ...,\n",
       "         [ 19,  53, 146],\n",
       "         [ 19,  53, 146],\n",
       "         [ 19,  53, 146]],\n",
       " \n",
       "        [[  2,  75, 183],\n",
       "         [  2,  75, 183],\n",
       "         [  2,  75, 183],\n",
       "         ...,\n",
       "         [ 17,  54, 146],\n",
       "         [ 17,  54, 146],\n",
       "         [ 17,  54, 146]],\n",
       " \n",
       "        [[  2,  75, 183],\n",
       "         [  2,  75, 183],\n",
       "         [  2,  75, 183],\n",
       "         ...,\n",
       "         [ 18,  55, 147],\n",
       "         [ 18,  55, 147],\n",
       "         [ 18,  55, 147]],\n",
       " \n",
       "        ...,\n",
       " \n",
       "        [[  6,   5,  21],\n",
       "         [  6,   5,  21],\n",
       "         [  6,   5,  21],\n",
       "         ...,\n",
       "         [  4,   2,   8],\n",
       "         [  4,   2,   8],\n",
       "         [  4,   2,   8]],\n",
       " \n",
       "        [[  6,   5,  21],\n",
       "         [  6,   5,  21],\n",
       "         [  6,   5,  21],\n",
       "         ...,\n",
       "         [  7,   3,   9],\n",
       "         [  7,   3,   9],\n",
       "         [  7,   3,   9]],\n",
       " \n",
       "        [[  6,   5,  21],\n",
       "         [  6,   5,  21],\n",
       "         [  6,   5,  21],\n",
       "         ...,\n",
       "         [  9,   5,  11],\n",
       "         [  9,   5,  11],\n",
       "         [  9,   5,  11]]], dtype=uint8)\n",
       " orig_shape: (127, 397)\n",
       " path: 'c:\\\\Users\\\\adith\\\\Downloads\\\\drone_dataset\\\\testimage3.jpeg'\n",
       " probs: None\n",
       " save_dir: 'runs\\\\detect\\\\drone_detection27'\n",
       " speed: {'preprocess': 1.1525154113769531, 'inference': 117.18869209289551, 'postprocess': 1.0077953338623047}]"
      ]
     },
     "execution_count": 15,
     "metadata": {},
     "output_type": "execute_result"
    }
   ],
   "source": [
    "result4"
   ]
  },
  {
   "cell_type": "code",
   "execution_count": 1,
   "metadata": {},
   "outputs": [
    {
     "ename": "NameError",
     "evalue": "name 'result4' is not defined",
     "output_type": "error",
     "traceback": [
      "\u001b[1;31m---------------------------------------------------------------------------\u001b[0m",
      "\u001b[1;31mNameError\u001b[0m                                 Traceback (most recent call last)",
      "Cell \u001b[1;32mIn[1], line 1\u001b[0m\n\u001b[1;32m----> 1\u001b[0m \u001b[43mresult4\u001b[49m\u001b[38;5;241m.\u001b[39mboxes\n",
      "\u001b[1;31mNameError\u001b[0m: name 'result4' is not defined"
     ]
    }
   ],
   "source": [
    "result4.boxes"
   ]
  },
  {
   "cell_type": "code",
   "execution_count": 17,
   "metadata": {},
   "outputs": [
    {
     "name": "stdout",
     "output_type": "stream",
     "text": [
      "\n",
      "image 1/1 c:\\Users\\adith\\Downloads\\drone_dataset\\testimage4.jpeg: 480x640 (no detections), 126.2ms\n",
      "Speed: 3.3ms preprocess, 126.2ms inference, 0.0ms postprocess per image at shape (1, 3, 480, 640)\n",
      "Results saved to \u001b[1mruns\\detect\\drone_detection28\u001b[0m\n"
     ]
    }
   ],
   "source": [
    "result5 = model.predict(source='testimage4.jpeg', save=True, conf=0.5)"
   ]
  },
  {
   "cell_type": "code",
   "execution_count": 19,
   "metadata": {},
   "outputs": [
    {
     "name": "stdout",
     "output_type": "stream",
     "text": [
      "\n",
      "image 1/1 c:\\Users\\adith\\Downloads\\drone_dataset\\testimage6.jpeg: 384x640 1 drone, 115.7ms\n",
      "Speed: 1.0ms preprocess, 115.7ms inference, 1.5ms postprocess per image at shape (1, 3, 384, 640)\n",
      "Results saved to \u001b[1mruns\\detect\\drone_detection29\u001b[0m\n"
     ]
    }
   ],
   "source": [
    "result6 = model.predict(source='testimage6.jpeg', save=True, conf=0.5)"
   ]
  },
  {
   "cell_type": "code",
   "execution_count": 7,
   "metadata": {},
   "outputs": [
    {
     "name": "stdout",
     "output_type": "stream",
     "text": [
      "\n",
      "image 1/1 c:\\Users\\adith\\Downloads\\drone_dataset\\testimage3.jpeg: 224x640 3 airplanes, 63.3ms\n",
      "Speed: 2.2ms preprocess, 63.3ms inference, 0.0ms postprocess per image at shape (1, 3, 224, 640)\n",
      "[ultralytics.engine.results.Results object with attributes:\n",
      "\n",
      "boxes: ultralytics.engine.results.Boxes object\n",
      "keypoints: None\n",
      "masks: None\n",
      "names: {0: 'person', 1: 'bicycle', 2: 'car', 3: 'motorcycle', 4: 'airplane', 5: 'bus', 6: 'train', 7: 'truck', 8: 'boat', 9: 'traffic light', 10: 'fire hydrant', 11: 'stop sign', 12: 'parking meter', 13: 'bench', 14: 'bird', 15: 'cat', 16: 'dog', 17: 'horse', 18: 'sheep', 19: 'cow', 20: 'elephant', 21: 'bear', 22: 'zebra', 23: 'giraffe', 24: 'backpack', 25: 'umbrella', 26: 'handbag', 27: 'tie', 28: 'suitcase', 29: 'frisbee', 30: 'skis', 31: 'snowboard', 32: 'sports ball', 33: 'kite', 34: 'baseball bat', 35: 'baseball glove', 36: 'skateboard', 37: 'surfboard', 38: 'tennis racket', 39: 'bottle', 40: 'wine glass', 41: 'cup', 42: 'fork', 43: 'knife', 44: 'spoon', 45: 'bowl', 46: 'banana', 47: 'apple', 48: 'sandwich', 49: 'orange', 50: 'broccoli', 51: 'carrot', 52: 'hot dog', 53: 'pizza', 54: 'donut', 55: 'cake', 56: 'chair', 57: 'couch', 58: 'potted plant', 59: 'bed', 60: 'dining table', 61: 'toilet', 62: 'tv', 63: 'laptop', 64: 'mouse', 65: 'remote', 66: 'keyboard', 67: 'cell phone', 68: 'microwave', 69: 'oven', 70: 'toaster', 71: 'sink', 72: 'refrigerator', 73: 'book', 74: 'clock', 75: 'vase', 76: 'scissors', 77: 'teddy bear', 78: 'hair drier', 79: 'toothbrush'}\n",
      "obb: None\n",
      "orig_img: array([[[  2,  75, 183],\n",
      "        [  2,  75, 183],\n",
      "        [  2,  75, 183],\n",
      "        ...,\n",
      "        [ 19,  53, 146],\n",
      "        [ 19,  53, 146],\n",
      "        [ 19,  53, 146]],\n",
      "\n",
      "       [[  2,  75, 183],\n",
      "        [  2,  75, 183],\n",
      "        [  2,  75, 183],\n",
      "        ...,\n",
      "        [ 17,  54, 146],\n",
      "        [ 17,  54, 146],\n",
      "        [ 17,  54, 146]],\n",
      "\n",
      "       [[  2,  75, 183],\n",
      "        [  2,  75, 183],\n",
      "        [  2,  75, 183],\n",
      "        ...,\n",
      "        [ 18,  55, 147],\n",
      "        [ 18,  55, 147],\n",
      "        [ 18,  55, 147]],\n",
      "\n",
      "       ...,\n",
      "\n",
      "       [[  6,   5,  21],\n",
      "        [  6,   5,  21],\n",
      "        [  6,   5,  21],\n",
      "        ...,\n",
      "        [  4,   2,   8],\n",
      "        [  4,   2,   8],\n",
      "        [  4,   2,   8]],\n",
      "\n",
      "       [[  6,   5,  21],\n",
      "        [  6,   5,  21],\n",
      "        [  6,   5,  21],\n",
      "        ...,\n",
      "        [  7,   3,   9],\n",
      "        [  7,   3,   9],\n",
      "        [  7,   3,   9]],\n",
      "\n",
      "       [[  6,   5,  21],\n",
      "        [  6,   5,  21],\n",
      "        [  6,   5,  21],\n",
      "        ...,\n",
      "        [  9,   5,  11],\n",
      "        [  9,   5,  11],\n",
      "        [  9,   5,  11]]], dtype=uint8)\n",
      "orig_shape: (127, 397)\n",
      "path: 'c:\\\\Users\\\\adith\\\\Downloads\\\\drone_dataset\\\\testimage3.jpeg'\n",
      "probs: None\n",
      "save_dir: 'runs\\\\detect\\\\predict'\n",
      "speed: {'preprocess': 2.185821533203125, 'inference': 63.271284103393555, 'postprocess': 0.0}]\n"
     ]
    }
   ],
   "source": [
    "from ultralytics import YOLO\n",
    "\n",
    "# Step 1: Load the custom-trained model\n",
    "model = YOLO('yolov8n.pt')\n",
    "# Step 2: Run the model on an image\n",
    "results = model('testimage3.jpeg')\n",
    "\n",
    "# Step 3: Display the results\n",
    "print(results)\n"
   ]
  },
  {
   "cell_type": "code",
   "execution_count": 3,
   "metadata": {},
   "outputs": [
    {
     "name": "stderr",
     "output_type": "stream",
     "text": [
      "c:\\Users\\adith\\AppData\\Local\\Programs\\Python\\Python311\\Lib\\site-packages\\tqdm\\auto.py:21: TqdmWarning: IProgress not found. Please update jupyter and ipywidgets. See https://ipywidgets.readthedocs.io/en/stable/user_install.html\n",
      "  from .autonotebook import tqdm as notebook_tqdm\n"
     ]
    }
   ],
   "source": [
    "from ultralytics import YOLO"
   ]
  },
  {
   "cell_type": "code",
   "execution_count": 4,
   "metadata": {},
   "outputs": [],
   "source": [
    "model = YOLO('runs/detect/drone_detection2/weights/best.pt')"
   ]
  },
  {
   "cell_type": "code",
   "execution_count": 5,
   "metadata": {},
   "outputs": [
    {
     "name": "stdout",
     "output_type": "stream",
     "text": [
      "\n",
      "image 1/1 c:\\Users\\adith\\Downloads\\drone_dataset\\testimage1.jpeg: 448x640 1 drone, 222.3ms\n",
      "Speed: 9.3ms preprocess, 222.3ms inference, 10.0ms postprocess per image at shape (1, 3, 448, 640)\n",
      "Results saved to \u001b[1mruns\\detect\\predict\u001b[0m\n"
     ]
    }
   ],
   "source": [
    "r1 = model.predict(source='testimage1.jpeg', save=True, conf=0.5)"
   ]
  },
  {
   "cell_type": "code",
   "execution_count": 10,
   "metadata": {},
   "outputs": [
    {
     "name": "stdout",
     "output_type": "stream",
     "text": [
      "\n",
      "image 1/1 c:\\Users\\adith\\Downloads\\drone_dataset\\pranaytest4.jpeg: 448x640 (no detections), 218.6ms\n",
      "Speed: 4.6ms preprocess, 218.6ms inference, 1.0ms postprocess per image at shape (1, 3, 448, 640)\n",
      "Results saved to \u001b[1mruns\\detect\\predict\u001b[0m\n"
     ]
    }
   ],
   "source": [
    "r2 = model.predict(source='pranaytest4.jpeg', save=True, conf=0.5)"
   ]
  },
  {
   "cell_type": "code",
   "execution_count": null,
   "metadata": {},
   "outputs": [],
   "source": []
  }
 ],
 "metadata": {
  "kernelspec": {
   "display_name": "Python 3",
   "language": "python",
   "name": "python3"
  },
  "language_info": {
   "codemirror_mode": {
    "name": "ipython",
    "version": 3
   },
   "file_extension": ".py",
   "mimetype": "text/x-python",
   "name": "python",
   "nbconvert_exporter": "python",
   "pygments_lexer": "ipython3",
   "version": "3.11.1"
  }
 },
 "nbformat": 4,
 "nbformat_minor": 2
}
